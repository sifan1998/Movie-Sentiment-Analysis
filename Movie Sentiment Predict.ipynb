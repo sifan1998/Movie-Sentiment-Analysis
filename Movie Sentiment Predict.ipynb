{
 "cells": [
  {
   "cell_type": "code",
   "execution_count": 1,
   "id": "6f46a135",
   "metadata": {
    "scrolled": true
   },
   "outputs": [
    {
     "name": "stderr",
     "output_type": "stream",
     "text": [
      "[nltk_data] Downloading package vader_lexicon to\n",
      "[nltk_data]     C:\\Users\\Sifan\\AppData\\Roaming\\nltk_data...\n",
      "[nltk_data]   Package vader_lexicon is already up-to-date!\n",
      "[nltk_data] Downloading package stopwords to\n",
      "[nltk_data]     C:\\Users\\Sifan\\AppData\\Roaming\\nltk_data...\n",
      "[nltk_data]   Package stopwords is already up-to-date!\n",
      "[nltk_data] Downloading package punkt to\n",
      "[nltk_data]     C:\\Users\\Sifan\\AppData\\Roaming\\nltk_data...\n",
      "[nltk_data]   Package punkt is already up-to-date!\n"
     ]
    }
   ],
   "source": [
    "import numpy as np\n",
    "import pandas as pd\n",
    "from pandas import Series,DataFrame\n",
    "import re,string,unicodedata\n",
    "from collections import Counter\n",
    "import nltk\n",
    "nltk.download('vader_lexicon')\n",
    "from nltk.sentiment.vader import SentimentIntensityAnalyzer\n",
    "from nltk.stem import WordNetLemmatizer\n",
    "\n",
    "from sklearn.metrics import confusion_matrix,classification_report,accuracy_score,f1_score\n",
    "from sklearn.model_selection import train_test_split\n",
    "from sklearn.feature_extraction.text import CountVectorizer, TfidfVectorizer\n",
    "\n",
    "from nltk.corpus import stopwords\n",
    "nltk.download('stopwords')\n",
    "nltk.download('punkt')\n",
    "from nltk.tokenize import word_tokenize\n",
    "from nltk.stem import PorterStemmer\n",
    "from bs4 import BeautifulSoup\n",
    "\n",
    "from tensorflow.keras.preprocessing.text import Tokenizer\n",
    "from tensorflow.keras.preprocessing.sequence import pad_sequences\n",
    "from tensorflow.keras.callbacks import ModelCheckpoint\n",
    "from tensorflow.keras.layers import Dense,Input, Embedding,LSTM,Dropout,Conv1D, MaxPooling1D, GlobalMaxPooling1D,Dropout,Bidirectional,Flatten,BatchNormalization\n",
    "from tensorflow.keras.callbacks import EarlyStopping\n",
    "from tensorflow.keras.models import Model\n",
    "from tensorflow.keras.optimizers import Adam\n",
    "from tensorflow.keras.utils import plot_model\n",
    "import transformers\n",
    "import tokenizers\n",
    "\n",
    "import matplotlib.pyplot as plt\n",
    "%matplotlib inline\n",
    "import seaborn as sns\n",
    "sns.set(style='white', context='notebook', palette='deep')"
   ]
  },
  {
   "cell_type": "code",
   "execution_count": 2,
   "id": "3401533d",
   "metadata": {
    "scrolled": false
   },
   "outputs": [
    {
     "data": {
      "text/html": [
       "<div>\n",
       "<style scoped>\n",
       "    .dataframe tbody tr th:only-of-type {\n",
       "        vertical-align: middle;\n",
       "    }\n",
       "\n",
       "    .dataframe tbody tr th {\n",
       "        vertical-align: top;\n",
       "    }\n",
       "\n",
       "    .dataframe thead th {\n",
       "        text-align: right;\n",
       "    }\n",
       "</style>\n",
       "<table border=\"1\" class=\"dataframe\">\n",
       "  <thead>\n",
       "    <tr style=\"text-align: right;\">\n",
       "      <th></th>\n",
       "      <th>review</th>\n",
       "      <th>sentiment</th>\n",
       "    </tr>\n",
       "  </thead>\n",
       "  <tbody>\n",
       "    <tr>\n",
       "      <th>0</th>\n",
       "      <td>One of the other reviewers has mentioned that ...</td>\n",
       "      <td>positive</td>\n",
       "    </tr>\n",
       "    <tr>\n",
       "      <th>1</th>\n",
       "      <td>A wonderful little production. &lt;br /&gt;&lt;br /&gt;The...</td>\n",
       "      <td>positive</td>\n",
       "    </tr>\n",
       "    <tr>\n",
       "      <th>2</th>\n",
       "      <td>I thought this was a wonderful way to spend ti...</td>\n",
       "      <td>positive</td>\n",
       "    </tr>\n",
       "    <tr>\n",
       "      <th>3</th>\n",
       "      <td>Basically there's a family where a little boy ...</td>\n",
       "      <td>negative</td>\n",
       "    </tr>\n",
       "    <tr>\n",
       "      <th>4</th>\n",
       "      <td>Petter Mattei's \"Love in the Time of Money\" is...</td>\n",
       "      <td>positive</td>\n",
       "    </tr>\n",
       "    <tr>\n",
       "      <th>...</th>\n",
       "      <td>...</td>\n",
       "      <td>...</td>\n",
       "    </tr>\n",
       "    <tr>\n",
       "      <th>49995</th>\n",
       "      <td>I thought this movie did a down right good job...</td>\n",
       "      <td>positive</td>\n",
       "    </tr>\n",
       "    <tr>\n",
       "      <th>49996</th>\n",
       "      <td>Bad plot, bad dialogue, bad acting, idiotic di...</td>\n",
       "      <td>negative</td>\n",
       "    </tr>\n",
       "    <tr>\n",
       "      <th>49997</th>\n",
       "      <td>I am a Catholic taught in parochial elementary...</td>\n",
       "      <td>negative</td>\n",
       "    </tr>\n",
       "    <tr>\n",
       "      <th>49998</th>\n",
       "      <td>I'm going to have to disagree with the previou...</td>\n",
       "      <td>negative</td>\n",
       "    </tr>\n",
       "    <tr>\n",
       "      <th>49999</th>\n",
       "      <td>No one expects the Star Trek movies to be high...</td>\n",
       "      <td>negative</td>\n",
       "    </tr>\n",
       "  </tbody>\n",
       "</table>\n",
       "<p>50000 rows × 2 columns</p>\n",
       "</div>"
      ],
      "text/plain": [
       "                                                  review sentiment\n",
       "0      One of the other reviewers has mentioned that ...  positive\n",
       "1      A wonderful little production. <br /><br />The...  positive\n",
       "2      I thought this was a wonderful way to spend ti...  positive\n",
       "3      Basically there's a family where a little boy ...  negative\n",
       "4      Petter Mattei's \"Love in the Time of Money\" is...  positive\n",
       "...                                                  ...       ...\n",
       "49995  I thought this movie did a down right good job...  positive\n",
       "49996  Bad plot, bad dialogue, bad acting, idiotic di...  negative\n",
       "49997  I am a Catholic taught in parochial elementary...  negative\n",
       "49998  I'm going to have to disagree with the previou...  negative\n",
       "49999  No one expects the Star Trek movies to be high...  negative\n",
       "\n",
       "[50000 rows x 2 columns]"
      ]
     },
     "execution_count": 2,
     "metadata": {},
     "output_type": "execute_result"
    }
   ],
   "source": [
    "df = pd.read_csv(\"2022-07-03-IMDB Dataset.csv\")\n",
    "df"
   ]
  },
  {
   "cell_type": "code",
   "execution_count": 3,
   "id": "691ba841",
   "metadata": {
    "scrolled": true
   },
   "outputs": [
    {
     "data": {
      "text/html": [
       "<div>\n",
       "<style scoped>\n",
       "    .dataframe tbody tr th:only-of-type {\n",
       "        vertical-align: middle;\n",
       "    }\n",
       "\n",
       "    .dataframe tbody tr th {\n",
       "        vertical-align: top;\n",
       "    }\n",
       "\n",
       "    .dataframe thead th {\n",
       "        text-align: right;\n",
       "    }\n",
       "</style>\n",
       "<table border=\"1\" class=\"dataframe\">\n",
       "  <thead>\n",
       "    <tr style=\"text-align: right;\">\n",
       "      <th></th>\n",
       "      <th>review</th>\n",
       "      <th>sentiment</th>\n",
       "    </tr>\n",
       "  </thead>\n",
       "  <tbody>\n",
       "    <tr>\n",
       "      <th>0</th>\n",
       "      <td>One of the other reviewers has mentioned that ...</td>\n",
       "      <td>positive</td>\n",
       "    </tr>\n",
       "    <tr>\n",
       "      <th>1</th>\n",
       "      <td>A wonderful little production. &lt;br /&gt;&lt;br /&gt;The...</td>\n",
       "      <td>positive</td>\n",
       "    </tr>\n",
       "    <tr>\n",
       "      <th>2</th>\n",
       "      <td>I thought this was a wonderful way to spend ti...</td>\n",
       "      <td>positive</td>\n",
       "    </tr>\n",
       "    <tr>\n",
       "      <th>3</th>\n",
       "      <td>Basically there's a family where a little boy ...</td>\n",
       "      <td>negative</td>\n",
       "    </tr>\n",
       "    <tr>\n",
       "      <th>4</th>\n",
       "      <td>Petter Mattei's \"Love in the Time of Money\" is...</td>\n",
       "      <td>positive</td>\n",
       "    </tr>\n",
       "  </tbody>\n",
       "</table>\n",
       "</div>"
      ],
      "text/plain": [
       "                                              review sentiment\n",
       "0  One of the other reviewers has mentioned that ...  positive\n",
       "1  A wonderful little production. <br /><br />The...  positive\n",
       "2  I thought this was a wonderful way to spend ti...  positive\n",
       "3  Basically there's a family where a little boy ...  negative\n",
       "4  Petter Mattei's \"Love in the Time of Money\" is...  positive"
      ]
     },
     "execution_count": 3,
     "metadata": {},
     "output_type": "execute_result"
    }
   ],
   "source": [
    "df.head()"
   ]
  },
  {
   "cell_type": "code",
   "execution_count": 4,
   "id": "475731eb",
   "metadata": {},
   "outputs": [
    {
     "data": {
      "text/plain": [
       "Counter({'positive': 25000, 'negative': 25000})"
      ]
     },
     "execution_count": 4,
     "metadata": {},
     "output_type": "execute_result"
    }
   ],
   "source": [
    "Counter(df[\"sentiment\"])"
   ]
  },
  {
   "cell_type": "code",
   "execution_count": 5,
   "id": "ce0b1ddf",
   "metadata": {},
   "outputs": [
    {
     "data": {
      "text/html": [
       "<div>\n",
       "<style scoped>\n",
       "    .dataframe tbody tr th:only-of-type {\n",
       "        vertical-align: middle;\n",
       "    }\n",
       "\n",
       "    .dataframe tbody tr th {\n",
       "        vertical-align: top;\n",
       "    }\n",
       "\n",
       "    .dataframe thead th {\n",
       "        text-align: right;\n",
       "    }\n",
       "</style>\n",
       "<table border=\"1\" class=\"dataframe\">\n",
       "  <thead>\n",
       "    <tr style=\"text-align: right;\">\n",
       "      <th></th>\n",
       "      <th>review</th>\n",
       "      <th>sentiment</th>\n",
       "    </tr>\n",
       "  </thead>\n",
       "  <tbody>\n",
       "    <tr>\n",
       "      <th>count</th>\n",
       "      <td>50000</td>\n",
       "      <td>50000</td>\n",
       "    </tr>\n",
       "    <tr>\n",
       "      <th>unique</th>\n",
       "      <td>49582</td>\n",
       "      <td>2</td>\n",
       "    </tr>\n",
       "    <tr>\n",
       "      <th>top</th>\n",
       "      <td>Loved today's show!!! It was a variety and not...</td>\n",
       "      <td>positive</td>\n",
       "    </tr>\n",
       "    <tr>\n",
       "      <th>freq</th>\n",
       "      <td>5</td>\n",
       "      <td>25000</td>\n",
       "    </tr>\n",
       "  </tbody>\n",
       "</table>\n",
       "</div>"
      ],
      "text/plain": [
       "                                                   review sentiment\n",
       "count                                               50000     50000\n",
       "unique                                              49582         2\n",
       "top     Loved today's show!!! It was a variety and not...  positive\n",
       "freq                                                    5     25000"
      ]
     },
     "execution_count": 5,
     "metadata": {},
     "output_type": "execute_result"
    }
   ],
   "source": [
    "df.describe()"
   ]
  },
  {
   "cell_type": "code",
   "execution_count": 6,
   "id": "defacf33",
   "metadata": {},
   "outputs": [
    {
     "data": {
      "text/html": [
       "<div>\n",
       "<style scoped>\n",
       "    .dataframe tbody tr th:only-of-type {\n",
       "        vertical-align: middle;\n",
       "    }\n",
       "\n",
       "    .dataframe tbody tr th {\n",
       "        vertical-align: top;\n",
       "    }\n",
       "\n",
       "    .dataframe thead th {\n",
       "        text-align: right;\n",
       "    }\n",
       "</style>\n",
       "<table border=\"1\" class=\"dataframe\">\n",
       "  <thead>\n",
       "    <tr style=\"text-align: right;\">\n",
       "      <th></th>\n",
       "      <th>review</th>\n",
       "      <th>sentiment</th>\n",
       "    </tr>\n",
       "  </thead>\n",
       "  <tbody>\n",
       "    <tr>\n",
       "      <th>count</th>\n",
       "      <td>49582</td>\n",
       "      <td>49582</td>\n",
       "    </tr>\n",
       "    <tr>\n",
       "      <th>unique</th>\n",
       "      <td>49582</td>\n",
       "      <td>2</td>\n",
       "    </tr>\n",
       "    <tr>\n",
       "      <th>top</th>\n",
       "      <td>One of the other reviewers has mentioned that ...</td>\n",
       "      <td>positive</td>\n",
       "    </tr>\n",
       "    <tr>\n",
       "      <th>freq</th>\n",
       "      <td>1</td>\n",
       "      <td>24884</td>\n",
       "    </tr>\n",
       "  </tbody>\n",
       "</table>\n",
       "</div>"
      ],
      "text/plain": [
       "                                                   review sentiment\n",
       "count                                               49582     49582\n",
       "unique                                              49582         2\n",
       "top     One of the other reviewers has mentioned that ...  positive\n",
       "freq                                                    1     24884"
      ]
     },
     "execution_count": 6,
     "metadata": {},
     "output_type": "execute_result"
    }
   ],
   "source": [
    "df.drop_duplicates(inplace = True)\n",
    "df.describe()"
   ]
  },
  {
   "cell_type": "code",
   "execution_count": 7,
   "id": "f8ccabf4",
   "metadata": {},
   "outputs": [
    {
     "data": {
      "text/plain": [
       "Counter({'positive': 24884, 'negative': 24698})"
      ]
     },
     "execution_count": 7,
     "metadata": {},
     "output_type": "execute_result"
    }
   ],
   "source": [
    "Counter(df[\"sentiment\"])"
   ]
  },
  {
   "cell_type": "code",
   "execution_count": 8,
   "id": "17f12f9e",
   "metadata": {},
   "outputs": [],
   "source": [
    "data_copy=df.copy()"
   ]
  },
  {
   "cell_type": "markdown",
   "id": "d9589e0e",
   "metadata": {},
   "source": [
    "## VADER before Preprocess"
   ]
  },
  {
   "cell_type": "code",
   "execution_count": 9,
   "id": "5b6d34a1",
   "metadata": {},
   "outputs": [],
   "source": [
    "sia = SentimentIntensityAnalyzer()"
   ]
  },
  {
   "cell_type": "code",
   "execution_count": 10,
   "id": "edc95fc9",
   "metadata": {},
   "outputs": [
    {
     "name": "stdout",
     "output_type": "stream",
     "text": [
      "['I like you']:{'neg': 0.0, 'neu': 0.286, 'pos': 0.714, 'compound': 0.3612}\n"
     ]
    }
   ],
   "source": [
    "sentence = ['I like you']\n",
    "analyzer = SentimentIntensityAnalyzer()\n",
    "vs = analyzer.polarity_scores('I like you')\n",
    "print(\"{0}:{1}\".format(sentence, str(vs)))"
   ]
  },
  {
   "cell_type": "code",
   "execution_count": 11,
   "id": "1dbd2ef0",
   "metadata": {},
   "outputs": [],
   "source": [
    "df_v = df.copy()\n",
    "df_v['scores'] = df_v['review'].apply(lambda review: sia.polarity_scores(review))"
   ]
  },
  {
   "cell_type": "code",
   "execution_count": 12,
   "id": "4930576a",
   "metadata": {},
   "outputs": [
    {
     "data": {
      "text/html": [
       "<div>\n",
       "<style scoped>\n",
       "    .dataframe tbody tr th:only-of-type {\n",
       "        vertical-align: middle;\n",
       "    }\n",
       "\n",
       "    .dataframe tbody tr th {\n",
       "        vertical-align: top;\n",
       "    }\n",
       "\n",
       "    .dataframe thead th {\n",
       "        text-align: right;\n",
       "    }\n",
       "</style>\n",
       "<table border=\"1\" class=\"dataframe\">\n",
       "  <thead>\n",
       "    <tr style=\"text-align: right;\">\n",
       "      <th></th>\n",
       "      <th>review</th>\n",
       "      <th>sentiment</th>\n",
       "      <th>scores</th>\n",
       "    </tr>\n",
       "  </thead>\n",
       "  <tbody>\n",
       "    <tr>\n",
       "      <th>0</th>\n",
       "      <td>One of the other reviewers has mentioned that ...</td>\n",
       "      <td>positive</td>\n",
       "      <td>{'neg': 0.203, 'neu': 0.748, 'pos': 0.048, 'co...</td>\n",
       "    </tr>\n",
       "    <tr>\n",
       "      <th>1</th>\n",
       "      <td>A wonderful little production. &lt;br /&gt;&lt;br /&gt;The...</td>\n",
       "      <td>positive</td>\n",
       "      <td>{'neg': 0.053, 'neu': 0.776, 'pos': 0.172, 'co...</td>\n",
       "    </tr>\n",
       "    <tr>\n",
       "      <th>2</th>\n",
       "      <td>I thought this was a wonderful way to spend ti...</td>\n",
       "      <td>positive</td>\n",
       "      <td>{'neg': 0.094, 'neu': 0.714, 'pos': 0.192, 'co...</td>\n",
       "    </tr>\n",
       "    <tr>\n",
       "      <th>3</th>\n",
       "      <td>Basically there's a family where a little boy ...</td>\n",
       "      <td>negative</td>\n",
       "      <td>{'neg': 0.138, 'neu': 0.797, 'pos': 0.065, 'co...</td>\n",
       "    </tr>\n",
       "    <tr>\n",
       "      <th>4</th>\n",
       "      <td>Petter Mattei's \"Love in the Time of Money\" is...</td>\n",
       "      <td>positive</td>\n",
       "      <td>{'neg': 0.052, 'neu': 0.801, 'pos': 0.147, 'co...</td>\n",
       "    </tr>\n",
       "    <tr>\n",
       "      <th>...</th>\n",
       "      <td>...</td>\n",
       "      <td>...</td>\n",
       "      <td>...</td>\n",
       "    </tr>\n",
       "    <tr>\n",
       "      <th>49995</th>\n",
       "      <td>I thought this movie did a down right good job...</td>\n",
       "      <td>positive</td>\n",
       "      <td>{'neg': 0.047, 'neu': 0.753, 'pos': 0.199, 'co...</td>\n",
       "    </tr>\n",
       "    <tr>\n",
       "      <th>49996</th>\n",
       "      <td>Bad plot, bad dialogue, bad acting, idiotic di...</td>\n",
       "      <td>negative</td>\n",
       "      <td>{'neg': 0.166, 'neu': 0.72, 'pos': 0.114, 'com...</td>\n",
       "    </tr>\n",
       "    <tr>\n",
       "      <th>49997</th>\n",
       "      <td>I am a Catholic taught in parochial elementary...</td>\n",
       "      <td>negative</td>\n",
       "      <td>{'neg': 0.208, 'neu': 0.683, 'pos': 0.108, 'co...</td>\n",
       "    </tr>\n",
       "    <tr>\n",
       "      <th>49998</th>\n",
       "      <td>I'm going to have to disagree with the previou...</td>\n",
       "      <td>negative</td>\n",
       "      <td>{'neg': 0.105, 'neu': 0.813, 'pos': 0.082, 'co...</td>\n",
       "    </tr>\n",
       "    <tr>\n",
       "      <th>49999</th>\n",
       "      <td>No one expects the Star Trek movies to be high...</td>\n",
       "      <td>negative</td>\n",
       "      <td>{'neg': 0.135, 'neu': 0.723, 'pos': 0.141, 'co...</td>\n",
       "    </tr>\n",
       "  </tbody>\n",
       "</table>\n",
       "<p>49582 rows × 3 columns</p>\n",
       "</div>"
      ],
      "text/plain": [
       "                                                  review sentiment  \\\n",
       "0      One of the other reviewers has mentioned that ...  positive   \n",
       "1      A wonderful little production. <br /><br />The...  positive   \n",
       "2      I thought this was a wonderful way to spend ti...  positive   \n",
       "3      Basically there's a family where a little boy ...  negative   \n",
       "4      Petter Mattei's \"Love in the Time of Money\" is...  positive   \n",
       "...                                                  ...       ...   \n",
       "49995  I thought this movie did a down right good job...  positive   \n",
       "49996  Bad plot, bad dialogue, bad acting, idiotic di...  negative   \n",
       "49997  I am a Catholic taught in parochial elementary...  negative   \n",
       "49998  I'm going to have to disagree with the previou...  negative   \n",
       "49999  No one expects the Star Trek movies to be high...  negative   \n",
       "\n",
       "                                                  scores  \n",
       "0      {'neg': 0.203, 'neu': 0.748, 'pos': 0.048, 'co...  \n",
       "1      {'neg': 0.053, 'neu': 0.776, 'pos': 0.172, 'co...  \n",
       "2      {'neg': 0.094, 'neu': 0.714, 'pos': 0.192, 'co...  \n",
       "3      {'neg': 0.138, 'neu': 0.797, 'pos': 0.065, 'co...  \n",
       "4      {'neg': 0.052, 'neu': 0.801, 'pos': 0.147, 'co...  \n",
       "...                                                  ...  \n",
       "49995  {'neg': 0.047, 'neu': 0.753, 'pos': 0.199, 'co...  \n",
       "49996  {'neg': 0.166, 'neu': 0.72, 'pos': 0.114, 'com...  \n",
       "49997  {'neg': 0.208, 'neu': 0.683, 'pos': 0.108, 'co...  \n",
       "49998  {'neg': 0.105, 'neu': 0.813, 'pos': 0.082, 'co...  \n",
       "49999  {'neg': 0.135, 'neu': 0.723, 'pos': 0.141, 'co...  \n",
       "\n",
       "[49582 rows x 3 columns]"
      ]
     },
     "execution_count": 12,
     "metadata": {},
     "output_type": "execute_result"
    }
   ],
   "source": [
    "df_v"
   ]
  },
  {
   "cell_type": "code",
   "execution_count": 13,
   "id": "5a66dd5a",
   "metadata": {},
   "outputs": [],
   "source": [
    "df_v['compound'] = df_v['scores'].apply(lambda comp: comp['compound'])\n",
    "df_v['comp_score'] = df_v['compound'].apply(lambda c: 1 if c >= 0 else 0)\n",
    "df_v['sentiment'] = df_v['sentiment'].map({'positive':1,'negative':0})"
   ]
  },
  {
   "cell_type": "code",
   "execution_count": 14,
   "id": "5e10ddc0",
   "metadata": {},
   "outputs": [
    {
     "data": {
      "text/html": [
       "<div>\n",
       "<style scoped>\n",
       "    .dataframe tbody tr th:only-of-type {\n",
       "        vertical-align: middle;\n",
       "    }\n",
       "\n",
       "    .dataframe tbody tr th {\n",
       "        vertical-align: top;\n",
       "    }\n",
       "\n",
       "    .dataframe thead th {\n",
       "        text-align: right;\n",
       "    }\n",
       "</style>\n",
       "<table border=\"1\" class=\"dataframe\">\n",
       "  <thead>\n",
       "    <tr style=\"text-align: right;\">\n",
       "      <th></th>\n",
       "      <th>review</th>\n",
       "      <th>sentiment</th>\n",
       "      <th>scores</th>\n",
       "      <th>compound</th>\n",
       "      <th>comp_score</th>\n",
       "    </tr>\n",
       "  </thead>\n",
       "  <tbody>\n",
       "    <tr>\n",
       "      <th>0</th>\n",
       "      <td>One of the other reviewers has mentioned that ...</td>\n",
       "      <td>1</td>\n",
       "      <td>{'neg': 0.203, 'neu': 0.748, 'pos': 0.048, 'co...</td>\n",
       "      <td>-0.9951</td>\n",
       "      <td>0</td>\n",
       "    </tr>\n",
       "    <tr>\n",
       "      <th>1</th>\n",
       "      <td>A wonderful little production. &lt;br /&gt;&lt;br /&gt;The...</td>\n",
       "      <td>1</td>\n",
       "      <td>{'neg': 0.053, 'neu': 0.776, 'pos': 0.172, 'co...</td>\n",
       "      <td>0.9641</td>\n",
       "      <td>1</td>\n",
       "    </tr>\n",
       "    <tr>\n",
       "      <th>2</th>\n",
       "      <td>I thought this was a wonderful way to spend ti...</td>\n",
       "      <td>1</td>\n",
       "      <td>{'neg': 0.094, 'neu': 0.714, 'pos': 0.192, 'co...</td>\n",
       "      <td>0.9605</td>\n",
       "      <td>1</td>\n",
       "    </tr>\n",
       "    <tr>\n",
       "      <th>3</th>\n",
       "      <td>Basically there's a family where a little boy ...</td>\n",
       "      <td>0</td>\n",
       "      <td>{'neg': 0.138, 'neu': 0.797, 'pos': 0.065, 'co...</td>\n",
       "      <td>-0.9213</td>\n",
       "      <td>0</td>\n",
       "    </tr>\n",
       "    <tr>\n",
       "      <th>4</th>\n",
       "      <td>Petter Mattei's \"Love in the Time of Money\" is...</td>\n",
       "      <td>1</td>\n",
       "      <td>{'neg': 0.052, 'neu': 0.801, 'pos': 0.147, 'co...</td>\n",
       "      <td>0.9744</td>\n",
       "      <td>1</td>\n",
       "    </tr>\n",
       "  </tbody>\n",
       "</table>\n",
       "</div>"
      ],
      "text/plain": [
       "                                              review  sentiment  \\\n",
       "0  One of the other reviewers has mentioned that ...          1   \n",
       "1  A wonderful little production. <br /><br />The...          1   \n",
       "2  I thought this was a wonderful way to spend ti...          1   \n",
       "3  Basically there's a family where a little boy ...          0   \n",
       "4  Petter Mattei's \"Love in the Time of Money\" is...          1   \n",
       "\n",
       "                                              scores  compound  comp_score  \n",
       "0  {'neg': 0.203, 'neu': 0.748, 'pos': 0.048, 'co...   -0.9951           0  \n",
       "1  {'neg': 0.053, 'neu': 0.776, 'pos': 0.172, 'co...    0.9641           1  \n",
       "2  {'neg': 0.094, 'neu': 0.714, 'pos': 0.192, 'co...    0.9605           1  \n",
       "3  {'neg': 0.138, 'neu': 0.797, 'pos': 0.065, 'co...   -0.9213           0  \n",
       "4  {'neg': 0.052, 'neu': 0.801, 'pos': 0.147, 'co...    0.9744           1  "
      ]
     },
     "execution_count": 14,
     "metadata": {},
     "output_type": "execute_result"
    }
   ],
   "source": [
    "df_v.head()"
   ]
  },
  {
   "cell_type": "code",
   "execution_count": 15,
   "id": "ff5cd6a4",
   "metadata": {},
   "outputs": [
    {
     "data": {
      "text/plain": [
       "Counter({0: 16830, 1: 32752})"
      ]
     },
     "execution_count": 15,
     "metadata": {},
     "output_type": "execute_result"
    }
   ],
   "source": [
    "Counter(df_v[\"comp_score\"])"
   ]
  },
  {
   "cell_type": "code",
   "execution_count": 16,
   "id": "47697d83",
   "metadata": {},
   "outputs": [
    {
     "name": "stdout",
     "output_type": "stream",
     "text": [
      "Validation F1 Score  : 0.7392254840724547 and Accuracy Score 0.6968657980718809\n"
     ]
    }
   ],
   "source": [
    "f1 = f1_score(df_v['sentiment'],df_v['comp_score'],pos_label=1)\n",
    "accuracy = accuracy_score(df_v['sentiment'],df_v['comp_score'])\n",
    "\n",
    "print(f\"Validation F1 Score  : {f1} and Accuracy Score {accuracy}\")"
   ]
  },
  {
   "cell_type": "code",
   "execution_count": 20,
   "id": "a66e4a00",
   "metadata": {},
   "outputs": [
    {
     "data": {
      "image/png": "[encoded data removed]",
      "text/plain": [
       "<Figure size 432x288 with 1 Axes>"
      ]
     },
     "metadata": {},
     "output_type": "display_data"
    }
   ],
   "source": [
    "mat = confusion_matrix(df_v['sentiment'],df_v['comp_score'])\n",
    "# Plot Confusion matrix\n",
    "sns.heatmap(mat.T, square=True, annot=True, cbar=False, cmap=plt.cm.Blues, fmt='.0f')\n",
    "plt.xlabel('True label')\n",
    "plt.ylabel('Predicted label');\n",
    "plt.title('Confusion Matrix of VADER before Preprocess');\n",
    "plt.show();"
   ]
  },
  {
   "cell_type": "markdown",
   "id": "9607fc11",
   "metadata": {},
   "source": [
    "## Preprocess"
   ]
  },
  {
   "cell_type": "code",
   "execution_count": 11,
   "id": "369e94a0",
   "metadata": {},
   "outputs": [],
   "source": [
    "stop = stopwords.words('english')\n",
    "wl = WordNetLemmatizer()\n",
    "mapping = {\"ain't\": \"is not\", \"aren't\": \"are not\",\"can't\": \"cannot\", \n",
    "           \"'cause\": \"because\", \"could've\": \"could have\", \"couldn't\": \"could not\", \n",
    "           \"didn't\": \"did not\",  \"doesn't\": \"does not\", \"don't\": \"do not\", \"hadn't\": \"had not\", \n",
    "           \"hasn't\": \"has not\", \"haven't\": \"have not\", \"he'd\": \"he would\",\"he'll\": \"he will\", \n",
    "           \"he's\": \"he is\", \"how'd\": \"how did\", \"how'd'y\": \"how do you\", \"how'll\": \"how will\", \n",
    "           \"how's\": \"how is\",  \"I'd\": \"I would\", \"I'd've\": \"I would have\", \"I'll\": \"I will\", \n",
    "           \"I'll've\": \"I will have\",\"I'm\": \"I am\", \"I've\": \"I have\", \"i'd\": \"i would\", \n",
    "           \"i'd've\": \"i would have\", \"i'll\": \"i will\",  \"i'll've\": \"i will have\",\n",
    "           \"i'm\": \"i am\", \"i've\": \"i have\", \"isn't\": \"is not\", \"it'd\": \"it would\", \n",
    "           \"it'd've\": \"it would have\", \"it'll\": \"it will\", \"it'll've\": \"it will have\",\n",
    "           \"it's\": \"it is\", \"let's\": \"let us\", \"ma'am\": \"madam\", \"mayn't\": \"may not\", \n",
    "           \"might've\": \"might have\",\"mightn't\": \"might not\",\"mightn't've\": \"might not have\", \n",
    "           \"must've\": \"must have\", \"mustn't\": \"must not\", \"mustn't've\": \"must not have\", \n",
    "           \"needn't\": \"need not\", \"needn't've\": \"need not have\",\"o'clock\": \"of the clock\", \n",
    "           \"oughtn't\": \"ought not\", \"oughtn't've\": \"ought not have\", \"shan't\": \"shall not\", \n",
    "           \"sha'n't\": \"shall not\", \"shan't've\": \"shall not have\", \"she'd\": \"she would\", \n",
    "           \"she'd've\": \"she would have\", \"she'll\": \"she will\", \"she'll've\": \"she will have\", \n",
    "           \"she's\": \"she is\", \"should've\": \"should have\", \"shouldn't\": \"should not\", \n",
    "           \"shouldn't've\": \"should not have\", \"so've\": \"so have\",\"so's\": \"so as\", \"this's\": \"this is\",\n",
    "           \"that'd\": \"that would\", \"that'd've\": \"that would have\", \"that's\": \"that is\", \n",
    "           \"there'd\": \"there would\", \"there'd've\": \"there would have\", \"there's\": \"there is\", \n",
    "           \"here's\": \"here is\",\"they'd\": \"they would\", \"they'd've\": \"they would have\", \n",
    "           \"they'll\": \"they will\", \"they'll've\": \"they will have\", \"they're\": \"they are\", \n",
    "           \"they've\": \"they have\", \"to've\": \"to have\", \"wasn't\": \"was not\", \"we'd\": \"we would\", \n",
    "           \"we'd've\": \"we would have\", \"we'll\": \"we will\", \"we'll've\": \"we will have\", \n",
    "           \"we're\": \"we are\", \"we've\": \"we have\", \"weren't\": \"were not\", \n",
    "           \"what'll\": \"what will\", \"what'll've\": \"what will have\",\"what're\": \"what are\",  \n",
    "           \"what's\": \"what is\", \"what've\": \"what have\", \"when's\": \"when is\", \"when've\": \"when have\", \n",
    "           \"where'd\": \"where did\", \"where's\": \"where is\", \"where've\": \"where have\", \"who'll\": \"who will\", \n",
    "           \"who'll've\": \"who will have\", \"who's\": \"who is\", \"who've\": \"who have\", \"why's\": \"why is\", \n",
    "           \"why've\": \"why have\", \"will've\": \"will have\", \"won't\": \"will not\", \"won't've\": \"will not have\", \n",
    "           \"would've\": \"would have\", \"wouldn't\": \"would not\", \"wouldn't've\": \"would not have\", \n",
    "           \"y'all\": \"you all\", \"y'all'd\": \"you all would\",\"y'all'd've\": \"you all would have\",\n",
    "           \"y'all're\": \"you all are\",\"y'all've\": \"you all have\",\"you'd\": \"you would\", \n",
    "           \"you'd've\": \"you would have\", \"you'll\": \"you will\", \"you'll've\": \"you will have\", \n",
    "           \"you're\": \"you are\", \"you've\": \"you have\" }"
   ]
  },
  {
   "cell_type": "code",
   "execution_count": 12,
   "id": "0974925d",
   "metadata": {},
   "outputs": [],
   "source": [
    "#function to clean data\n",
    "def clean_text(text,lemmatize = True):\n",
    "    soup = BeautifulSoup(text, \"html.parser\") #remove html tags\n",
    "    text = soup.get_text()\n",
    "    text = ' '.join([mapping[t] if t in mapping else t for t in text.split(\" \")]) #expanding chatwords and contracts clearing contractions\n",
    "    emoji_clean= re.compile(\"[\"\n",
    "                           u\"\\U0001F600-\\U0001F64F\"  # emoticons\n",
    "                           u\"\\U0001F300-\\U0001F5FF\"  # symbols & pictographs\n",
    "                           u\"\\U0001F680-\\U0001F6FF\"  # transport & map symbols\n",
    "                           u\"\\U0001F1E0-\\U0001F1FF\"  # flags (iOS)\n",
    "                           u\"\\U00002702-\\U000027B0\"\n",
    "                           u\"\\U000024C2-\\U0001F251\"\n",
    "                           \"]+\", flags=re.UNICODE)\n",
    "    text = emoji_clean.sub(r'',text)\n",
    "    text = re.sub(r'\\.(?=\\S)', '. ',text) #add space after full stop\n",
    "    text = re.sub(r'http\\S+', '', text) #remove urls\n",
    "    text = \"\".join([word.lower() for word in text if word not in string.punctuation]) #remove punctuation\n",
    "    #tokens = re.split('\\W+', text) #create tokens\n",
    "    if lemmatize:\n",
    "        text = \" \".join([wl.lemmatize(word) for word in text.split() if word not in stop and word.isalpha()]) #lemmatize\n",
    "    else:\n",
    "        text = \" \".join([word for word in text.split() if word not in stop and word.isalpha()]) \n",
    "    \n",
    "    return text"
   ]
  },
  {
   "cell_type": "code",
   "execution_count": 23,
   "id": "0890272b",
   "metadata": {},
   "outputs": [
    {
     "data": {
      "text/html": [
       "<div>\n",
       "<style scoped>\n",
       "    .dataframe tbody tr th:only-of-type {\n",
       "        vertical-align: middle;\n",
       "    }\n",
       "\n",
       "    .dataframe tbody tr th {\n",
       "        vertical-align: top;\n",
       "    }\n",
       "\n",
       "    .dataframe thead th {\n",
       "        text-align: right;\n",
       "    }\n",
       "</style>\n",
       "<table border=\"1\" class=\"dataframe\">\n",
       "  <thead>\n",
       "    <tr style=\"text-align: right;\">\n",
       "      <th></th>\n",
       "      <th>review</th>\n",
       "      <th>sentiment</th>\n",
       "    </tr>\n",
       "  </thead>\n",
       "  <tbody>\n",
       "    <tr>\n",
       "      <th>0</th>\n",
       "      <td>one reviewer mentioned watching oz episode hoo...</td>\n",
       "      <td>1</td>\n",
       "    </tr>\n",
       "    <tr>\n",
       "      <th>1</th>\n",
       "      <td>wonderful little production filming technique ...</td>\n",
       "      <td>1</td>\n",
       "    </tr>\n",
       "    <tr>\n",
       "      <th>2</th>\n",
       "      <td>thought wonderful way spend time hot summer we...</td>\n",
       "      <td>1</td>\n",
       "    </tr>\n",
       "    <tr>\n",
       "      <th>3</th>\n",
       "      <td>basically family little boy jake think zombie ...</td>\n",
       "      <td>0</td>\n",
       "    </tr>\n",
       "    <tr>\n",
       "      <th>4</th>\n",
       "      <td>petter matteis love time money visually stunni...</td>\n",
       "      <td>1</td>\n",
       "    </tr>\n",
       "    <tr>\n",
       "      <th>...</th>\n",
       "      <td>...</td>\n",
       "      <td>...</td>\n",
       "    </tr>\n",
       "    <tr>\n",
       "      <th>49995</th>\n",
       "      <td>thought movie right good job creative original...</td>\n",
       "      <td>1</td>\n",
       "    </tr>\n",
       "    <tr>\n",
       "      <th>49996</th>\n",
       "      <td>bad plot bad dialogue bad acting idiotic direc...</td>\n",
       "      <td>0</td>\n",
       "    </tr>\n",
       "    <tr>\n",
       "      <th>49997</th>\n",
       "      <td>catholic taught parochial elementary school nu...</td>\n",
       "      <td>0</td>\n",
       "    </tr>\n",
       "    <tr>\n",
       "      <th>49998</th>\n",
       "      <td>going disagree previous comment side maltin on...</td>\n",
       "      <td>0</td>\n",
       "    </tr>\n",
       "    <tr>\n",
       "      <th>49999</th>\n",
       "      <td>one expects star trek movie high art fan expec...</td>\n",
       "      <td>0</td>\n",
       "    </tr>\n",
       "  </tbody>\n",
       "</table>\n",
       "<p>49582 rows × 2 columns</p>\n",
       "</div>"
      ],
      "text/plain": [
       "                                                  review  sentiment\n",
       "0      one reviewer mentioned watching oz episode hoo...          1\n",
       "1      wonderful little production filming technique ...          1\n",
       "2      thought wonderful way spend time hot summer we...          1\n",
       "3      basically family little boy jake think zombie ...          0\n",
       "4      petter matteis love time money visually stunni...          1\n",
       "...                                                  ...        ...\n",
       "49995  thought movie right good job creative original...          1\n",
       "49996  bad plot bad dialogue bad acting idiotic direc...          0\n",
       "49997  catholic taught parochial elementary school nu...          0\n",
       "49998  going disagree previous comment side maltin on...          0\n",
       "49999  one expects star trek movie high art fan expec...          0\n",
       "\n",
       "[49582 rows x 2 columns]"
      ]
     },
     "execution_count": 23,
     "metadata": {},
     "output_type": "execute_result"
    }
   ],
   "source": [
    "df['review']=df['review'].apply(clean_text,lemmatize = True)\n",
    "df['sentiment'] = df['sentiment'].map({'positive':1,'negative':0})\n",
    "df"
   ]
  },
  {
   "cell_type": "code",
   "execution_count": 24,
   "id": "d78f3780",
   "metadata": {},
   "outputs": [],
   "source": [
    "positive_data = df[df.sentiment == 1]['review']\n",
    "positive_data_string = ' '.join(positive_data)\n",
    "negative_data = df[df.sentiment == 0]['review']\n",
    "negative_data_string = ' '.join(negative_data)"
   ]
  },
  {
   "cell_type": "code",
   "execution_count": 25,
   "id": "163ddc4a",
   "metadata": {
    "scrolled": false
   },
   "outputs": [
    {
     "data": {
      "image/png": "[encoded data removed]",
      "text/plain": [
       "<Figure size 864x576 with 2 Axes>"
      ]
     },
     "metadata": {},
     "output_type": "display_data"
    }
   ],
   "source": [
    "fig,(ax1,ax2)=plt.subplots(1,2,figsize=(12,8))\n",
    "\n",
    "text_len=positive_data.str.split().map(lambda x: len(x))\n",
    "ax1.hist(text_len,color='green')\n",
    "ax1.set_title('Positive Reviews')\n",
    "ax1.set_xlabel('Number of Words')\n",
    "ax1.set_ylabel('Count')\n",
    "text_len=negative_data.str.split().map(lambda x: len(x))\n",
    "ax2.hist(text_len,color='red')\n",
    "ax2.set_title('Negative Reviews')\n",
    "ax2.set_xlabel('Number of Words')\n",
    "ax2.set_ylabel('Count')\n",
    "fig.suptitle('Number of words in texts')\n",
    "plt.show()"
   ]
  },
  {
   "cell_type": "code",
   "execution_count": 26,
   "id": "2104f494",
   "metadata": {},
   "outputs": [
    {
     "name": "stderr",
     "output_type": "stream",
     "text": [
      "D:\\Anaconda\\lib\\site-packages\\seaborn\\distributions.py:2619: FutureWarning: `distplot` is a deprecated function and will be removed in a future version. Please adapt your code to use either `displot` (a figure-level function with similar flexibility) or `histplot` (an axes-level function for histograms).\n",
      "  warnings.warn(msg, FutureWarning)\n",
      "D:\\Anaconda\\lib\\site-packages\\seaborn\\distributions.py:2619: FutureWarning: `distplot` is a deprecated function and will be removed in a future version. Please adapt your code to use either `displot` (a figure-level function with similar flexibility) or `histplot` (an axes-level function for histograms).\n",
      "  warnings.warn(msg, FutureWarning)\n"
     ]
    },
    {
     "data": {
      "image/png": "[encoded data removed]",
      "text/plain": [
       "<Figure size 1440x720 with 2 Axes>"
      ]
     },
     "metadata": {},
     "output_type": "display_data"
    }
   ],
   "source": [
    "fig,(ax1,ax2)=plt.subplots(1,2,figsize=(20,10))\n",
    "word = positive_data.str.split().apply(lambda x : len(x) )\n",
    "sns.distplot(word, ax=ax1,color='green')\n",
    "ax1.set_title('Positive Reviews')\n",
    "ax1.set_xlabel('Number of words per review')\n",
    "word = negative_data.str.split().apply(lambda x :len(x) )\n",
    "sns.distplot(word,ax=ax2,color='red')\n",
    "ax2.set_title('Negative Reviews')\n",
    "ax2.set_xlabel('Number of words per review')\n",
    "fig.suptitle('Distribution of number of words per reviews')\n",
    "plt.show()"
   ]
  },
  {
   "cell_type": "code",
   "execution_count": 27,
   "id": "0d6013d3",
   "metadata": {},
   "outputs": [
    {
     "data": {
      "text/plain": [
       "['one', 'reviewer', 'mentioned', 'watching', 'oz']"
      ]
     },
     "execution_count": 27,
     "metadata": {},
     "output_type": "execute_result"
    }
   ],
   "source": [
    "def get_corpus(text):\n",
    "    words = []\n",
    "    for i in text:\n",
    "        for j in i.split():\n",
    "            words.append(j.strip())\n",
    "    return words\n",
    "corpus = get_corpus(df.review)\n",
    "corpus[:5]"
   ]
  },
  {
   "cell_type": "code",
   "execution_count": 28,
   "id": "3f8794ad",
   "metadata": {},
   "outputs": [
    {
     "data": {
      "text/html": [
       "<div>\n",
       "<style scoped>\n",
       "    .dataframe tbody tr th:only-of-type {\n",
       "        vertical-align: middle;\n",
       "    }\n",
       "\n",
       "    .dataframe tbody tr th {\n",
       "        vertical-align: top;\n",
       "    }\n",
       "\n",
       "    .dataframe thead th {\n",
       "        text-align: right;\n",
       "    }\n",
       "</style>\n",
       "<table border=\"1\" class=\"dataframe\">\n",
       "  <thead>\n",
       "    <tr style=\"text-align: right;\">\n",
       "      <th></th>\n",
       "      <th>corpus</th>\n",
       "      <th>countv</th>\n",
       "    </tr>\n",
       "  </thead>\n",
       "  <tbody>\n",
       "    <tr>\n",
       "      <th>0</th>\n",
       "      <td>movie</td>\n",
       "      <td>100605</td>\n",
       "    </tr>\n",
       "    <tr>\n",
       "      <th>1</th>\n",
       "      <td>film</td>\n",
       "      <td>91130</td>\n",
       "    </tr>\n",
       "    <tr>\n",
       "      <th>2</th>\n",
       "      <td>one</td>\n",
       "      <td>53525</td>\n",
       "    </tr>\n",
       "    <tr>\n",
       "      <th>3</th>\n",
       "      <td>like</td>\n",
       "      <td>39746</td>\n",
       "    </tr>\n",
       "    <tr>\n",
       "      <th>4</th>\n",
       "      <td>time</td>\n",
       "      <td>30091</td>\n",
       "    </tr>\n",
       "    <tr>\n",
       "      <th>5</th>\n",
       "      <td>would</td>\n",
       "      <td>30037</td>\n",
       "    </tr>\n",
       "    <tr>\n",
       "      <th>6</th>\n",
       "      <td>good</td>\n",
       "      <td>28905</td>\n",
       "    </tr>\n",
       "    <tr>\n",
       "      <th>7</th>\n",
       "      <td>character</td>\n",
       "      <td>27801</td>\n",
       "    </tr>\n",
       "    <tr>\n",
       "      <th>8</th>\n",
       "      <td>story</td>\n",
       "      <td>24600</td>\n",
       "    </tr>\n",
       "    <tr>\n",
       "      <th>9</th>\n",
       "      <td>even</td>\n",
       "      <td>24440</td>\n",
       "    </tr>\n",
       "  </tbody>\n",
       "</table>\n",
       "</div>"
      ],
      "text/plain": [
       "      corpus  countv\n",
       "0      movie  100605\n",
       "1       film   91130\n",
       "2        one   53525\n",
       "3       like   39746\n",
       "4       time   30091\n",
       "5      would   30037\n",
       "6       good   28905\n",
       "7  character   27801\n",
       "8      story   24600\n",
       "9       even   24440"
      ]
     },
     "execution_count": 28,
     "metadata": {},
     "output_type": "execute_result"
    }
   ],
   "source": [
    "counter = Counter(corpus)\n",
    "most_common = counter.most_common(10)\n",
    "most_common = pd.DataFrame(most_common,columns = ['corpus','countv'])\n",
    "most_common"
   ]
  },
  {
   "cell_type": "code",
   "execution_count": 29,
   "id": "d179a7fb",
   "metadata": {},
   "outputs": [],
   "source": [
    "most_common = most_common.sort_values('countv')"
   ]
  },
  {
   "cell_type": "code",
   "execution_count": 30,
   "id": "7ed208f1",
   "metadata": {
    "scrolled": false
   },
   "outputs": [
    {
     "data": {
      "image/png": "[encoded data removed]",
      "text/plain": [
       "<Figure size 720x720 with 1 Axes>"
      ]
     },
     "metadata": {},
     "output_type": "display_data"
    }
   ],
   "source": [
    "plt.figure(figsize =(10,10))\n",
    "plt.yticks(range(len(most_common)), list(most_common.corpus))\n",
    "plt.barh(range(len(most_common)), list(most_common.countv),align='center',color = 'blue')\n",
    "plt.title('Most common words in the dataset')\n",
    "plt.show()"
   ]
  },
  {
   "cell_type": "code",
   "execution_count": 31,
   "id": "713a1c30",
   "metadata": {},
   "outputs": [],
   "source": [
    "def get_ngrams(review, n, g):\n",
    "    vec = CountVectorizer(ngram_range=(g, g)).fit(review)\n",
    "    bag_of_words = vec.transform(review) #sparse matrix of count_vectorizer\n",
    "    sum_words = bag_of_words.sum(axis=0) #total number of words\n",
    "    sum_words = np.array(sum_words)[0].tolist() #convert to list\n",
    "    words_freq = [(word, sum_words[idx]) for word, idx in vec.vocabulary_.items()] #get word freqency for word location in count vec\n",
    "    words_freq =sorted(words_freq, key = lambda x: x[1], reverse=True) #key is used to perform sorting using word_freqency \n",
    "    return words_freq[:n]"
   ]
  },
  {
   "cell_type": "code",
   "execution_count": 32,
   "id": "1856f6ff",
   "metadata": {},
   "outputs": [
    {
     "data": {
      "image/png": "[encoded data removed]",
      "text/plain": [
       "<Figure size 2160x1080 with 2 Axes>"
      ]
     },
     "metadata": {},
     "output_type": "display_data"
    }
   ],
   "source": [
    "fig,(ax1,ax2)=plt.subplots(1,2,figsize=(30,15))\n",
    "uni_positive = get_ngrams(positive_data,20,1)\n",
    "uni_positive = dict(uni_positive)\n",
    "temp = pd.DataFrame(list(uni_positive.items()), columns = [\"Common_words\" , 'Count'])\n",
    "sns.barplot(data = temp, x=\"Count\", y=\"Common_words\", orient='h',ax = ax1)\n",
    "ax1.set_title('Positive reviews')\n",
    "uni_negative = get_ngrams(negative_data,20,1)\n",
    "uni_negative = dict(uni_negative)\n",
    "temp = pd.DataFrame(list(uni_negative.items()), columns = [\"Common_words\" , 'Count'])\n",
    "sns.barplot(data = temp, x=\"Count\", y=\"Common_words\", orient='h',ax = ax2)\n",
    "ax2.set_title('Negative reviews')\n",
    "fig.suptitle('Unigram analysis for positive and negative reviews')\n",
    "plt.show()"
   ]
  },
  {
   "cell_type": "markdown",
   "id": "9d0a412a",
   "metadata": {},
   "source": [
    "## VADER after Proprocess"
   ]
  },
  {
   "cell_type": "code",
   "execution_count": 33,
   "id": "f9e5e006",
   "metadata": {},
   "outputs": [],
   "source": [
    "df_v = df.copy()\n",
    "df_v['scores'] = df_v['review'].apply(lambda review: sia.polarity_scores(review))"
   ]
  },
  {
   "cell_type": "code",
   "execution_count": 34,
   "id": "9f6cd499",
   "metadata": {},
   "outputs": [
    {
     "data": {
      "text/html": [
       "<div>\n",
       "<style scoped>\n",
       "    .dataframe tbody tr th:only-of-type {\n",
       "        vertical-align: middle;\n",
       "    }\n",
       "\n",
       "    .dataframe tbody tr th {\n",
       "        vertical-align: top;\n",
       "    }\n",
       "\n",
       "    .dataframe thead th {\n",
       "        text-align: right;\n",
       "    }\n",
       "</style>\n",
       "<table border=\"1\" class=\"dataframe\">\n",
       "  <thead>\n",
       "    <tr style=\"text-align: right;\">\n",
       "      <th></th>\n",
       "      <th>review</th>\n",
       "      <th>sentiment</th>\n",
       "      <th>scores</th>\n",
       "    </tr>\n",
       "  </thead>\n",
       "  <tbody>\n",
       "    <tr>\n",
       "      <th>0</th>\n",
       "      <td>one reviewer mentioned watching oz episode hoo...</td>\n",
       "      <td>1</td>\n",
       "      <td>{'neg': 0.31, 'neu': 0.576, 'pos': 0.115, 'com...</td>\n",
       "    </tr>\n",
       "    <tr>\n",
       "      <th>1</th>\n",
       "      <td>wonderful little production filming technique ...</td>\n",
       "      <td>1</td>\n",
       "      <td>{'neg': 0.079, 'neu': 0.635, 'pos': 0.285, 'co...</td>\n",
       "    </tr>\n",
       "    <tr>\n",
       "      <th>2</th>\n",
       "      <td>thought wonderful way spend time hot summer we...</td>\n",
       "      <td>1</td>\n",
       "      <td>{'neg': 0.149, 'neu': 0.513, 'pos': 0.338, 'co...</td>\n",
       "    </tr>\n",
       "    <tr>\n",
       "      <th>3</th>\n",
       "      <td>basically family little boy jake think zombie ...</td>\n",
       "      <td>0</td>\n",
       "      <td>{'neg': 0.237, 'neu': 0.626, 'pos': 0.137, 'co...</td>\n",
       "    </tr>\n",
       "    <tr>\n",
       "      <th>4</th>\n",
       "      <td>petter matteis love time money visually stunni...</td>\n",
       "      <td>1</td>\n",
       "      <td>{'neg': 0.031, 'neu': 0.695, 'pos': 0.274, 'co...</td>\n",
       "    </tr>\n",
       "    <tr>\n",
       "      <th>...</th>\n",
       "      <td>...</td>\n",
       "      <td>...</td>\n",
       "      <td>...</td>\n",
       "    </tr>\n",
       "    <tr>\n",
       "      <th>49995</th>\n",
       "      <td>thought movie right good job creative original...</td>\n",
       "      <td>1</td>\n",
       "      <td>{'neg': 0.064, 'neu': 0.582, 'pos': 0.355, 'co...</td>\n",
       "    </tr>\n",
       "    <tr>\n",
       "      <th>49996</th>\n",
       "      <td>bad plot bad dialogue bad acting idiotic direc...</td>\n",
       "      <td>0</td>\n",
       "      <td>{'neg': 0.346, 'neu': 0.429, 'pos': 0.226, 'co...</td>\n",
       "    </tr>\n",
       "    <tr>\n",
       "      <th>49997</th>\n",
       "      <td>catholic taught parochial elementary school nu...</td>\n",
       "      <td>0</td>\n",
       "      <td>{'neg': 0.238, 'neu': 0.543, 'pos': 0.219, 'co...</td>\n",
       "    </tr>\n",
       "    <tr>\n",
       "      <th>49998</th>\n",
       "      <td>going disagree previous comment side maltin on...</td>\n",
       "      <td>0</td>\n",
       "      <td>{'neg': 0.168, 'neu': 0.695, 'pos': 0.137, 'co...</td>\n",
       "    </tr>\n",
       "    <tr>\n",
       "      <th>49999</th>\n",
       "      <td>one expects star trek movie high art fan expec...</td>\n",
       "      <td>0</td>\n",
       "      <td>{'neg': 0.129, 'neu': 0.616, 'pos': 0.255, 'co...</td>\n",
       "    </tr>\n",
       "  </tbody>\n",
       "</table>\n",
       "<p>49582 rows × 3 columns</p>\n",
       "</div>"
      ],
      "text/plain": [
       "                                                  review  sentiment  \\\n",
       "0      one reviewer mentioned watching oz episode hoo...          1   \n",
       "1      wonderful little production filming technique ...          1   \n",
       "2      thought wonderful way spend time hot summer we...          1   \n",
       "3      basically family little boy jake think zombie ...          0   \n",
       "4      petter matteis love time money visually stunni...          1   \n",
       "...                                                  ...        ...   \n",
       "49995  thought movie right good job creative original...          1   \n",
       "49996  bad plot bad dialogue bad acting idiotic direc...          0   \n",
       "49997  catholic taught parochial elementary school nu...          0   \n",
       "49998  going disagree previous comment side maltin on...          0   \n",
       "49999  one expects star trek movie high art fan expec...          0   \n",
       "\n",
       "                                                  scores  \n",
       "0      {'neg': 0.31, 'neu': 0.576, 'pos': 0.115, 'com...  \n",
       "1      {'neg': 0.079, 'neu': 0.635, 'pos': 0.285, 'co...  \n",
       "2      {'neg': 0.149, 'neu': 0.513, 'pos': 0.338, 'co...  \n",
       "3      {'neg': 0.237, 'neu': 0.626, 'pos': 0.137, 'co...  \n",
       "4      {'neg': 0.031, 'neu': 0.695, 'pos': 0.274, 'co...  \n",
       "...                                                  ...  \n",
       "49995  {'neg': 0.064, 'neu': 0.582, 'pos': 0.355, 'co...  \n",
       "49996  {'neg': 0.346, 'neu': 0.429, 'pos': 0.226, 'co...  \n",
       "49997  {'neg': 0.238, 'neu': 0.543, 'pos': 0.219, 'co...  \n",
       "49998  {'neg': 0.168, 'neu': 0.695, 'pos': 0.137, 'co...  \n",
       "49999  {'neg': 0.129, 'neu': 0.616, 'pos': 0.255, 'co...  \n",
       "\n",
       "[49582 rows x 3 columns]"
      ]
     },
     "execution_count": 34,
     "metadata": {},
     "output_type": "execute_result"
    }
   ],
   "source": [
    "df_v"
   ]
  },
  {
   "cell_type": "code",
   "execution_count": 35,
   "id": "ba8858c4",
   "metadata": {},
   "outputs": [
    {
     "data": {
      "text/html": [
       "<div>\n",
       "<style scoped>\n",
       "    .dataframe tbody tr th:only-of-type {\n",
       "        vertical-align: middle;\n",
       "    }\n",
       "\n",
       "    .dataframe tbody tr th {\n",
       "        vertical-align: top;\n",
       "    }\n",
       "\n",
       "    .dataframe thead th {\n",
       "        text-align: right;\n",
       "    }\n",
       "</style>\n",
       "<table border=\"1\" class=\"dataframe\">\n",
       "  <thead>\n",
       "    <tr style=\"text-align: right;\">\n",
       "      <th></th>\n",
       "      <th>review</th>\n",
       "      <th>sentiment</th>\n",
       "      <th>scores</th>\n",
       "      <th>compound</th>\n",
       "      <th>comp_score</th>\n",
       "    </tr>\n",
       "  </thead>\n",
       "  <tbody>\n",
       "    <tr>\n",
       "      <th>0</th>\n",
       "      <td>one reviewer mentioned watching oz episode hoo...</td>\n",
       "      <td>1</td>\n",
       "      <td>{'neg': 0.31, 'neu': 0.576, 'pos': 0.115, 'com...</td>\n",
       "      <td>-0.9921</td>\n",
       "      <td>0</td>\n",
       "    </tr>\n",
       "    <tr>\n",
       "      <th>1</th>\n",
       "      <td>wonderful little production filming technique ...</td>\n",
       "      <td>1</td>\n",
       "      <td>{'neg': 0.079, 'neu': 0.635, 'pos': 0.285, 'co...</td>\n",
       "      <td>0.9606</td>\n",
       "      <td>1</td>\n",
       "    </tr>\n",
       "    <tr>\n",
       "      <th>2</th>\n",
       "      <td>thought wonderful way spend time hot summer we...</td>\n",
       "      <td>1</td>\n",
       "      <td>{'neg': 0.149, 'neu': 0.513, 'pos': 0.338, 'co...</td>\n",
       "      <td>0.9688</td>\n",
       "      <td>1</td>\n",
       "    </tr>\n",
       "    <tr>\n",
       "      <th>3</th>\n",
       "      <td>basically family little boy jake think zombie ...</td>\n",
       "      <td>0</td>\n",
       "      <td>{'neg': 0.237, 'neu': 0.626, 'pos': 0.137, 'co...</td>\n",
       "      <td>-0.9061</td>\n",
       "      <td>0</td>\n",
       "    </tr>\n",
       "    <tr>\n",
       "      <th>4</th>\n",
       "      <td>petter matteis love time money visually stunni...</td>\n",
       "      <td>1</td>\n",
       "      <td>{'neg': 0.031, 'neu': 0.695, 'pos': 0.274, 'co...</td>\n",
       "      <td>0.9887</td>\n",
       "      <td>1</td>\n",
       "    </tr>\n",
       "    <tr>\n",
       "      <th>...</th>\n",
       "      <td>...</td>\n",
       "      <td>...</td>\n",
       "      <td>...</td>\n",
       "      <td>...</td>\n",
       "      <td>...</td>\n",
       "    </tr>\n",
       "    <tr>\n",
       "      <th>49995</th>\n",
       "      <td>thought movie right good job creative original...</td>\n",
       "      <td>1</td>\n",
       "      <td>{'neg': 0.064, 'neu': 0.582, 'pos': 0.355, 'co...</td>\n",
       "      <td>0.9834</td>\n",
       "      <td>1</td>\n",
       "    </tr>\n",
       "    <tr>\n",
       "      <th>49996</th>\n",
       "      <td>bad plot bad dialogue bad acting idiotic direc...</td>\n",
       "      <td>0</td>\n",
       "      <td>{'neg': 0.346, 'neu': 0.429, 'pos': 0.226, 'co...</td>\n",
       "      <td>-0.9129</td>\n",
       "      <td>0</td>\n",
       "    </tr>\n",
       "    <tr>\n",
       "      <th>49997</th>\n",
       "      <td>catholic taught parochial elementary school nu...</td>\n",
       "      <td>0</td>\n",
       "      <td>{'neg': 0.238, 'neu': 0.543, 'pos': 0.219, 'co...</td>\n",
       "      <td>-0.8416</td>\n",
       "      <td>0</td>\n",
       "    </tr>\n",
       "    <tr>\n",
       "      <th>49998</th>\n",
       "      <td>going disagree previous comment side maltin on...</td>\n",
       "      <td>0</td>\n",
       "      <td>{'neg': 0.168, 'neu': 0.695, 'pos': 0.137, 'co...</td>\n",
       "      <td>-0.6597</td>\n",
       "      <td>0</td>\n",
       "    </tr>\n",
       "    <tr>\n",
       "      <th>49999</th>\n",
       "      <td>one expects star trek movie high art fan expec...</td>\n",
       "      <td>0</td>\n",
       "      <td>{'neg': 0.129, 'neu': 0.616, 'pos': 0.255, 'co...</td>\n",
       "      <td>0.8431</td>\n",
       "      <td>1</td>\n",
       "    </tr>\n",
       "  </tbody>\n",
       "</table>\n",
       "<p>49582 rows × 5 columns</p>\n",
       "</div>"
      ],
      "text/plain": [
       "                                                  review  sentiment  \\\n",
       "0      one reviewer mentioned watching oz episode hoo...          1   \n",
       "1      wonderful little production filming technique ...          1   \n",
       "2      thought wonderful way spend time hot summer we...          1   \n",
       "3      basically family little boy jake think zombie ...          0   \n",
       "4      petter matteis love time money visually stunni...          1   \n",
       "...                                                  ...        ...   \n",
       "49995  thought movie right good job creative original...          1   \n",
       "49996  bad plot bad dialogue bad acting idiotic direc...          0   \n",
       "49997  catholic taught parochial elementary school nu...          0   \n",
       "49998  going disagree previous comment side maltin on...          0   \n",
       "49999  one expects star trek movie high art fan expec...          0   \n",
       "\n",
       "                                                  scores  compound  comp_score  \n",
       "0      {'neg': 0.31, 'neu': 0.576, 'pos': 0.115, 'com...   -0.9921           0  \n",
       "1      {'neg': 0.079, 'neu': 0.635, 'pos': 0.285, 'co...    0.9606           1  \n",
       "2      {'neg': 0.149, 'neu': 0.513, 'pos': 0.338, 'co...    0.9688           1  \n",
       "3      {'neg': 0.237, 'neu': 0.626, 'pos': 0.137, 'co...   -0.9061           0  \n",
       "4      {'neg': 0.031, 'neu': 0.695, 'pos': 0.274, 'co...    0.9887           1  \n",
       "...                                                  ...       ...         ...  \n",
       "49995  {'neg': 0.064, 'neu': 0.582, 'pos': 0.355, 'co...    0.9834           1  \n",
       "49996  {'neg': 0.346, 'neu': 0.429, 'pos': 0.226, 'co...   -0.9129           0  \n",
       "49997  {'neg': 0.238, 'neu': 0.543, 'pos': 0.219, 'co...   -0.8416           0  \n",
       "49998  {'neg': 0.168, 'neu': 0.695, 'pos': 0.137, 'co...   -0.6597           0  \n",
       "49999  {'neg': 0.129, 'neu': 0.616, 'pos': 0.255, 'co...    0.8431           1  \n",
       "\n",
       "[49582 rows x 5 columns]"
      ]
     },
     "execution_count": 35,
     "metadata": {},
     "output_type": "execute_result"
    }
   ],
   "source": [
    "df_v['compound'] = df_v['scores'].apply(lambda comp: comp['compound'])\n",
    "df_v['comp_score'] = df_v['compound'].apply(lambda c: 1 if c >= 0 else 0)\n",
    "df_v"
   ]
  },
  {
   "cell_type": "code",
   "execution_count": 36,
   "id": "46e55d71",
   "metadata": {},
   "outputs": [
    {
     "data": {
      "text/plain": [
       "Counter({0: 14889, 1: 34693})"
      ]
     },
     "execution_count": 36,
     "metadata": {},
     "output_type": "execute_result"
    }
   ],
   "source": [
    "Counter(df_v[\"comp_score\"])"
   ]
  },
  {
   "cell_type": "code",
   "execution_count": 37,
   "id": "d445f896",
   "metadata": {},
   "outputs": [
    {
     "name": "stdout",
     "output_type": "stream",
     "text": [
      "Validation F1 Score  : 0.7280997700454873 and Accuracy Score 0.6732886934774717\n"
     ]
    }
   ],
   "source": [
    "f1_v = f1_score(df_v['sentiment'],df_v['comp_score'],pos_label=1)\n",
    "accuracy_v = accuracy_score(df_v['sentiment'],df_v['comp_score'])\n",
    "\n",
    "print(f\"Validation F1 Score  : {f1_v} and Accuracy Score {accuracy_v}\")"
   ]
  },
  {
   "cell_type": "code",
   "execution_count": 38,
   "id": "ebca24ff",
   "metadata": {},
   "outputs": [
    {
     "data": {
      "image/png": "[encoded data removed]",
      "text/plain": [
       "<Figure size 432x288 with 1 Axes>"
      ]
     },
     "metadata": {},
     "output_type": "display_data"
    }
   ],
   "source": [
    "mat1 = confusion_matrix(df_v['sentiment'],df_v['comp_score'])\n",
    "# Plot Confusion matrix\n",
    "sns.heatmap(mat1.T, square=True, annot=True, cbar=False, cmap=plt.cm.Blues, fmt='.0f')\n",
    "plt.xlabel('True label')\n",
    "plt.ylabel('Predicted label');\n",
    "plt.title('Confusion Matrix of VADER after Preprocess');\n",
    "plt.show();"
   ]
  },
  {
   "cell_type": "code",
   "execution_count": 92,
   "id": "74d94561",
   "metadata": {},
   "outputs": [
    {
     "data": {
      "text/html": [
       "<div>\n",
       "<style scoped>\n",
       "    .dataframe tbody tr th:only-of-type {\n",
       "        vertical-align: middle;\n",
       "    }\n",
       "\n",
       "    .dataframe tbody tr th {\n",
       "        vertical-align: top;\n",
       "    }\n",
       "\n",
       "    .dataframe thead th {\n",
       "        text-align: right;\n",
       "    }\n",
       "</style>\n",
       "<table border=\"1\" class=\"dataframe\">\n",
       "  <thead>\n",
       "    <tr style=\"text-align: right;\">\n",
       "      <th></th>\n",
       "      <th>F1 score</th>\n",
       "      <th>Accuracy</th>\n",
       "    </tr>\n",
       "  </thead>\n",
       "  <tbody>\n",
       "    <tr>\n",
       "      <th>Original</th>\n",
       "      <td>0.739225</td>\n",
       "      <td>0.696866</td>\n",
       "    </tr>\n",
       "    <tr>\n",
       "      <th>Preprocessed</th>\n",
       "      <td>0.728100</td>\n",
       "      <td>0.673289</td>\n",
       "    </tr>\n",
       "  </tbody>\n",
       "</table>\n",
       "</div>"
      ],
      "text/plain": [
       "              F1 score  Accuracy\n",
       "Original      0.739225  0.696866\n",
       "Preprocessed  0.728100  0.673289"
      ]
     },
     "execution_count": 92,
     "metadata": {},
     "output_type": "execute_result"
    }
   ],
   "source": [
    "f1_and_acc1 = {'F1 score':{'Original':f1,'Preprocessed':f1_v},\n",
    "       'Accuracy':{'Original': accuracy,'Preprocessed':accuracy_v}}\n",
    "f1_and_acc1 = DataFrame(f1_and_acc1)\n",
    "f1_and_acc1"
   ]
  },
  {
   "cell_type": "code",
   "execution_count": 89,
   "id": "4e643e65",
   "metadata": {},
   "outputs": [
    {
     "data": {
      "image/png": "[encoded data removed]",
      "text/plain": [
       "<Figure size 864x432 with 2 Axes>"
      ]
     },
     "metadata": {},
     "output_type": "display_data"
    }
   ],
   "source": [
    "plt.figure(figsize=(12, 6))  \n",
    "plt.subplot(1, 2, 1)  \n",
    "sns.heatmap(mat.T, square=True, annot=True, cbar=False, cmap=plt.cm.Greens, fmt='.0f')  \n",
    "plt.xlabel('True label')\n",
    "plt.ylabel('Predicted label')\n",
    "plt.title('Confusion Matrix of VADER before Preprocess')  \n",
    "plt.subplot(1, 2, 2)  \n",
    "sns.heatmap(mat1.T, square=True, annot=True, cbar=False, cmap=plt.cm.Blues, fmt='.0f')  \n",
    "plt.title('Confusion Matrix of VADER after Preprocess')  \n",
    "plt.xlabel('True label')\n",
    "plt.ylabel('Predicted label')\n",
    "plt.show()  "
   ]
  },
  {
   "cell_type": "markdown",
   "id": "26b5e109",
   "metadata": {},
   "source": [
    "## Naive Bayes"
   ]
  },
  {
   "cell_type": "code",
   "execution_count": 40,
   "id": "52219e61",
   "metadata": {},
   "outputs": [],
   "source": [
    "df_b = df.copy()\n",
    "df_b_train, df_b_test = train_test_split(df_b, test_size=0.2, random_state=42)"
   ]
  },
  {
   "cell_type": "code",
   "execution_count": 41,
   "id": "eb8cb3d0",
   "metadata": {},
   "outputs": [],
   "source": [
    "# Create a function to calculate the prior probability of each class\n",
    "def prior_probabilities(df):\n",
    "    num_positive = len(df[df['sentiment'] == 1])\n",
    "    num_negative = len(df[df['sentiment'] == 0])\n",
    "    total = num_positive + num_negative\n",
    "    return {1: num_positive/total, 0: num_negative/total}\n",
    "\n",
    "# Create a function to calculate the conditional probability of each word given each class\n",
    "def conditional_probabilities(df):\n",
    "    # Create a set of all the unique words in the training data\n",
    "    all_words = set()\n",
    "    for text in df['review']:\n",
    "        all_words.update(text.split())\n",
    "    # Count the number of occurrences of each word in each class\n",
    "    counts = {}\n",
    "    for sentiment in [1, 0]:\n",
    "        counts[sentiment] = {word: 0 for word in all_words}\n",
    "        for text in df[df['sentiment'] == sentiment]['review']:\n",
    "            for word in text.split():\n",
    "                counts[sentiment][word] += 1\n",
    "    # Calculate the conditional probabilities\n",
    "    cond_probs = {}\n",
    "    for sentiment in [1, 0]:\n",
    "        cond_probs[sentiment] = {}\n",
    "        num_words_in_class = sum(counts[sentiment].values())\n",
    "        for word in all_words:\n",
    "            cond_probs[sentiment][word] = (counts[sentiment][word] + 1) / (num_words_in_class + len(all_words))\n",
    "    return cond_probs\n",
    "\n",
    "prior_probs = prior_probabilities(df_b_train)\n",
    "cond_probs = conditional_probabilities(df_b_train)"
   ]
  },
  {
   "cell_type": "code",
   "execution_count": 42,
   "id": "21a017c1",
   "metadata": {},
   "outputs": [
    {
     "name": "stderr",
     "output_type": "stream",
     "text": [
      "C:\\Users\\Sifan\\AppData\\Local\\Temp/ipykernel_20196/3835320006.py:18: SettingWithCopyWarning: \n",
      "A value is trying to be set on a copy of a slice from a DataFrame.\n",
      "Try using .loc[row_indexer,col_indexer] = value instead\n",
      "\n",
      "See the caveats in the documentation: https://pandas.pydata.org/pandas-docs/stable/user_guide/indexing.html#returning-a-view-versus-a-copy\n",
      "  df_b_test['predicted_sentiment'] = df_b_test['review'].apply(classify)\n"
     ]
    },
    {
     "data": {
      "text/html": [
       "<div>\n",
       "<style scoped>\n",
       "    .dataframe tbody tr th:only-of-type {\n",
       "        vertical-align: middle;\n",
       "    }\n",
       "\n",
       "    .dataframe tbody tr th {\n",
       "        vertical-align: top;\n",
       "    }\n",
       "\n",
       "    .dataframe thead th {\n",
       "        text-align: right;\n",
       "    }\n",
       "</style>\n",
       "<table border=\"1\" class=\"dataframe\">\n",
       "  <thead>\n",
       "    <tr style=\"text-align: right;\">\n",
       "      <th></th>\n",
       "      <th>review</th>\n",
       "      <th>sentiment</th>\n",
       "      <th>predicted_sentiment</th>\n",
       "    </tr>\n",
       "  </thead>\n",
       "  <tbody>\n",
       "    <tr>\n",
       "      <th>29171</th>\n",
       "      <td>soul plane horrible attempt comedy appeal peop...</td>\n",
       "      <td>0</td>\n",
       "      <td>0</td>\n",
       "    </tr>\n",
       "    <tr>\n",
       "      <th>43589</th>\n",
       "      <td>guest future tell fascinating story time trave...</td>\n",
       "      <td>1</td>\n",
       "      <td>1</td>\n",
       "    </tr>\n",
       "    <tr>\n",
       "      <th>38712</th>\n",
       "      <td>national treasure thoroughly misguided hodgepo...</td>\n",
       "      <td>0</td>\n",
       "      <td>1</td>\n",
       "    </tr>\n",
       "    <tr>\n",
       "      <th>16045</th>\n",
       "      <td>ok first said wanted check whether movie avera...</td>\n",
       "      <td>0</td>\n",
       "      <td>0</td>\n",
       "    </tr>\n",
       "    <tr>\n",
       "      <th>5248</th>\n",
       "      <td>always fan show grew season started see richne...</td>\n",
       "      <td>1</td>\n",
       "      <td>1</td>\n",
       "    </tr>\n",
       "    <tr>\n",
       "      <th>...</th>\n",
       "      <td>...</td>\n",
       "      <td>...</td>\n",
       "      <td>...</td>\n",
       "    </tr>\n",
       "    <tr>\n",
       "      <th>2923</th>\n",
       "      <td>kennedymiller could hardly done better job tac...</td>\n",
       "      <td>1</td>\n",
       "      <td>1</td>\n",
       "    </tr>\n",
       "    <tr>\n",
       "      <th>15292</th>\n",
       "      <td>disney studio remake slapstick classic concern...</td>\n",
       "      <td>0</td>\n",
       "      <td>1</td>\n",
       "    </tr>\n",
       "    <tr>\n",
       "      <th>17849</th>\n",
       "      <td>gave star possible went realizing discovered a...</td>\n",
       "      <td>0</td>\n",
       "      <td>0</td>\n",
       "    </tr>\n",
       "    <tr>\n",
       "      <th>38079</th>\n",
       "      <td>found tremendously disappointing version charm...</td>\n",
       "      <td>0</td>\n",
       "      <td>1</td>\n",
       "    </tr>\n",
       "    <tr>\n",
       "      <th>2691</th>\n",
       "      <td>manmohan desai made entertaining though illogi...</td>\n",
       "      <td>0</td>\n",
       "      <td>0</td>\n",
       "    </tr>\n",
       "  </tbody>\n",
       "</table>\n",
       "<p>9917 rows × 3 columns</p>\n",
       "</div>"
      ],
      "text/plain": [
       "                                                  review  sentiment  \\\n",
       "29171  soul plane horrible attempt comedy appeal peop...          0   \n",
       "43589  guest future tell fascinating story time trave...          1   \n",
       "38712  national treasure thoroughly misguided hodgepo...          0   \n",
       "16045  ok first said wanted check whether movie avera...          0   \n",
       "5248   always fan show grew season started see richne...          1   \n",
       "...                                                  ...        ...   \n",
       "2923   kennedymiller could hardly done better job tac...          1   \n",
       "15292  disney studio remake slapstick classic concern...          0   \n",
       "17849  gave star possible went realizing discovered a...          0   \n",
       "38079  found tremendously disappointing version charm...          0   \n",
       "2691   manmohan desai made entertaining though illogi...          0   \n",
       "\n",
       "       predicted_sentiment  \n",
       "29171                    0  \n",
       "43589                    1  \n",
       "38712                    1  \n",
       "16045                    0  \n",
       "5248                     1  \n",
       "...                    ...  \n",
       "2923                     1  \n",
       "15292                    1  \n",
       "17849                    0  \n",
       "38079                    1  \n",
       "2691                     0  \n",
       "\n",
       "[9917 rows x 3 columns]"
      ]
     },
     "execution_count": 42,
     "metadata": {},
     "output_type": "execute_result"
    }
   ],
   "source": [
    "# Create a function to classify new reviews\n",
    "def classify(text):\n",
    "    words = text.split()\n",
    "    probs = {}\n",
    "    for sentiment in [1, 0]:\n",
    "        probs[sentiment] = np.log(prior_probs[sentiment])\n",
    "        for word in words:\n",
    "            if word in cond_probs[sentiment]:\n",
    "                probs[sentiment] += np.log(cond_probs[sentiment][word])\n",
    "            else:\n",
    "                probs[sentiment] += np.log(1/(sum(cond_probs[sentiment].values()) + len(cond_probs[sentiment])))\n",
    "                \n",
    "    if probs[1] > probs[0]:\n",
    "        return 1\n",
    "    else:\n",
    "        return 0\n",
    "# Test the classifier on the test set\n",
    "df_b_test['predicted_sentiment'] = df_b_test['review'].apply(classify)\n",
    "df_b_test"
   ]
  },
  {
   "cell_type": "code",
   "execution_count": 43,
   "id": "eb569f74",
   "metadata": {},
   "outputs": [
    {
     "data": {
      "text/plain": [
       "Counter({0: 5082, 1: 4835})"
      ]
     },
     "execution_count": 43,
     "metadata": {},
     "output_type": "execute_result"
    }
   ],
   "source": [
    "Counter(df_b_test[\"predicted_sentiment\"])"
   ]
  },
  {
   "cell_type": "code",
   "execution_count": 44,
   "id": "0118f8c8",
   "metadata": {},
   "outputs": [
    {
     "name": "stdout",
     "output_type": "stream",
     "text": [
      "Validation F1 Score  : 0.8572302048303271 and Accuracy Score 0.8587274377331855\n"
     ]
    }
   ],
   "source": [
    "f1_b = f1_score(df_b_test['sentiment'],df_b_test['predicted_sentiment'],pos_label=1)\n",
    "accuracy_b = accuracy_score(df_b_test['sentiment'],df_b_test['predicted_sentiment'])\n",
    "\n",
    "print(f\"Validation F1 Score  : {f1_b} and Accuracy Score {accuracy_b}\")"
   ]
  },
  {
   "cell_type": "code",
   "execution_count": 48,
   "id": "f0197278",
   "metadata": {
    "scrolled": true
   },
   "outputs": [
    {
     "data": {
      "image/png": "[encoded data removed]",
      "text/plain": [
       "<Figure size 432x288 with 1 Axes>"
      ]
     },
     "metadata": {},
     "output_type": "display_data"
    }
   ],
   "source": [
    "mat2 = confusion_matrix(df_b_test['sentiment'],df_b_test['predicted_sentiment'])\n",
    "# Plot Confusion matrix\n",
    "sns.heatmap(mat2.T, square=True, annot=True, cbar=False, cmap=plt.cm.Blues, fmt='.0f')\n",
    "plt.xlabel('True label')\n",
    "plt.ylabel('Predicted label');\n",
    "plt.title('Confusion Matrix of Naive Bayes');\n",
    "plt.show();"
   ]
  },
  {
   "cell_type": "markdown",
   "id": "05b163e3",
   "metadata": {},
   "source": [
    "## LSTM"
   ]
  },
  {
   "cell_type": "code",
   "execution_count": 9,
   "id": "a224ac07",
   "metadata": {},
   "outputs": [],
   "source": [
    "def plotLearningCurve(history,epochs):\n",
    "  epochRange = range(1,epochs+1)\n",
    "  fig , ax = plt.subplots(1,2,figsize = (10,5))\n",
    "  \n",
    "  ax[0].plot(epochRange,history.history['accuracy'],label = 'Training Accuracy')\n",
    "  ax[0].plot(epochRange,history.history['val_accuracy'],label = 'Validation Accuracy')\n",
    "  ax[0].set_title('Training and Validation accuracy')\n",
    "  ax[0].set_xlabel('Epoch')\n",
    "  ax[0].set_ylabel('Accuracy')\n",
    "  ax[0].legend()\n",
    "  ax[1].plot(epochRange,history.history['loss'],label = 'Training Loss')\n",
    "  ax[1].plot(epochRange,history.history['val_loss'],label = 'Validation Loss')\n",
    "  ax[1].set_title('Training and Validation loss')\n",
    "  ax[1].set_xlabel('Epoch')\n",
    "  ax[1].set_ylabel('Loss')\n",
    "  ax[1].legend()\n",
    "  fig.tight_layout()\n",
    "  plt.show()"
   ]
  },
  {
   "cell_type": "code",
   "execution_count": 13,
   "id": "d0f290c5",
   "metadata": {},
   "outputs": [],
   "source": [
    "#splitting into train and test\n",
    "data_copy['review']=data_copy['review'].apply(clean_text,lemmatize = False)\n",
    "#converting target variable to numerical value\n",
    "data_copy['sentiment'] = data_copy['sentiment'].map({'positive':1,'negative':0})"
   ]
  },
  {
   "cell_type": "code",
   "execution_count": 14,
   "id": "27720d1d",
   "metadata": {},
   "outputs": [
    {
     "data": {
      "text/html": [
       "<div>\n",
       "<style scoped>\n",
       "    .dataframe tbody tr th:only-of-type {\n",
       "        vertical-align: middle;\n",
       "    }\n",
       "\n",
       "    .dataframe tbody tr th {\n",
       "        vertical-align: top;\n",
       "    }\n",
       "\n",
       "    .dataframe thead th {\n",
       "        text-align: right;\n",
       "    }\n",
       "</style>\n",
       "<table border=\"1\" class=\"dataframe\">\n",
       "  <thead>\n",
       "    <tr style=\"text-align: right;\">\n",
       "      <th></th>\n",
       "      <th>review</th>\n",
       "      <th>sentiment</th>\n",
       "    </tr>\n",
       "  </thead>\n",
       "  <tbody>\n",
       "    <tr>\n",
       "      <th>0</th>\n",
       "      <td>one reviewers mentioned watching oz episode ho...</td>\n",
       "      <td>1</td>\n",
       "    </tr>\n",
       "    <tr>\n",
       "      <th>1</th>\n",
       "      <td>wonderful little production filming technique ...</td>\n",
       "      <td>1</td>\n",
       "    </tr>\n",
       "    <tr>\n",
       "      <th>2</th>\n",
       "      <td>thought wonderful way spend time hot summer we...</td>\n",
       "      <td>1</td>\n",
       "    </tr>\n",
       "    <tr>\n",
       "      <th>3</th>\n",
       "      <td>basically family little boy jake thinks zombie...</td>\n",
       "      <td>0</td>\n",
       "    </tr>\n",
       "    <tr>\n",
       "      <th>4</th>\n",
       "      <td>petter matteis love time money visually stunni...</td>\n",
       "      <td>1</td>\n",
       "    </tr>\n",
       "    <tr>\n",
       "      <th>...</th>\n",
       "      <td>...</td>\n",
       "      <td>...</td>\n",
       "    </tr>\n",
       "    <tr>\n",
       "      <th>49995</th>\n",
       "      <td>thought movie right good job creative original...</td>\n",
       "      <td>1</td>\n",
       "    </tr>\n",
       "    <tr>\n",
       "      <th>49996</th>\n",
       "      <td>bad plot bad dialogue bad acting idiotic direc...</td>\n",
       "      <td>0</td>\n",
       "    </tr>\n",
       "    <tr>\n",
       "      <th>49997</th>\n",
       "      <td>catholic taught parochial elementary schools n...</td>\n",
       "      <td>0</td>\n",
       "    </tr>\n",
       "    <tr>\n",
       "      <th>49998</th>\n",
       "      <td>going disagree previous comment side maltin on...</td>\n",
       "      <td>0</td>\n",
       "    </tr>\n",
       "    <tr>\n",
       "      <th>49999</th>\n",
       "      <td>one expects star trek movies high art fans exp...</td>\n",
       "      <td>0</td>\n",
       "    </tr>\n",
       "  </tbody>\n",
       "</table>\n",
       "<p>49582 rows × 2 columns</p>\n",
       "</div>"
      ],
      "text/plain": [
       "                                                  review  sentiment\n",
       "0      one reviewers mentioned watching oz episode ho...          1\n",
       "1      wonderful little production filming technique ...          1\n",
       "2      thought wonderful way spend time hot summer we...          1\n",
       "3      basically family little boy jake thinks zombie...          0\n",
       "4      petter matteis love time money visually stunni...          1\n",
       "...                                                  ...        ...\n",
       "49995  thought movie right good job creative original...          1\n",
       "49996  bad plot bad dialogue bad acting idiotic direc...          0\n",
       "49997  catholic taught parochial elementary schools n...          0\n",
       "49998  going disagree previous comment side maltin on...          0\n",
       "49999  one expects star trek movies high art fans exp...          0\n",
       "\n",
       "[49582 rows x 2 columns]"
      ]
     },
     "execution_count": 14,
     "metadata": {},
     "output_type": "execute_result"
    }
   ],
   "source": [
    "data_copy"
   ]
  },
  {
   "cell_type": "code",
   "execution_count": 15,
   "id": "3c6eeb70",
   "metadata": {},
   "outputs": [],
   "source": [
    "train, test= train_test_split(data_copy, test_size=0.2, random_state=42)\n",
    "Xtrain, ytrain = train['review'], train['sentiment']\n",
    "Xtest, ytest = test['review'], test['sentiment']"
   ]
  },
  {
   "cell_type": "code",
   "execution_count": 16,
   "id": "fb5bcd6e",
   "metadata": {},
   "outputs": [
    {
     "name": "stdout",
     "output_type": "stream",
     "text": [
      "Vocabulary of the dataset is :  136569\n"
     ]
    }
   ],
   "source": [
    "#set up the tokenizer\n",
    "MAX_VOCAB_SIZE = 10000\n",
    "tokenizer = Tokenizer(num_words = MAX_VOCAB_SIZE,oov_token=\"<oov>\")\n",
    "tokenizer.fit_on_texts(Xtrain)\n",
    "word_index = tokenizer.word_index\n",
    "#print(word_index)\n",
    "V = len(word_index)\n",
    "print(\"Vocabulary of the dataset is : \",V)"
   ]
  },
  {
   "cell_type": "code",
   "execution_count": 17,
   "id": "d41adf26",
   "metadata": {},
   "outputs": [],
   "source": [
    "#create sequences of reviews\n",
    "seq_train = tokenizer.texts_to_sequences(Xtrain)\n",
    "seq_test =  tokenizer.texts_to_sequences(Xtest)"
   ]
  },
  {
   "cell_type": "code",
   "execution_count": 18,
   "id": "81a52738",
   "metadata": {},
   "outputs": [
    {
     "name": "stdout",
     "output_type": "stream",
     "text": [
      "Maximum length of sequence in the list: 1406\n"
     ]
    }
   ],
   "source": [
    "#choice of maximum length of sequences\n",
    "seq_len_list = [len(i) for i in seq_train + seq_test]\n",
    "\n",
    "#if we take the direct maximum then\n",
    "max_len=max(seq_len_list)\n",
    "print('Maximum length of sequence in the list: {}'.format(max_len))"
   ]
  },
  {
   "cell_type": "code",
   "execution_count": 19,
   "id": "6c53efcf",
   "metadata": {},
   "outputs": [
    {
     "name": "stdout",
     "output_type": "stream",
     "text": [
      "Maximum length of the sequence when considering data only two standard deviations from average: 293\n"
     ]
    }
   ],
   "source": [
    "# when setting the maximum length of sequence, variability around the average is used.\n",
    "max_seq_len = np.mean(seq_len_list) + 2 * np.std(seq_len_list)\n",
    "max_seq_len = int(max_seq_len)\n",
    "print('Maximum length of the sequence when considering data only two standard deviations from average: {}'.format(max_seq_len))"
   ]
  },
  {
   "cell_type": "code",
   "execution_count": 20,
   "id": "64fc7625",
   "metadata": {},
   "outputs": [
    {
     "name": "stdout",
     "output_type": "stream",
     "text": [
      "The above calculated number coveres approximately 94.51 % of data\n"
     ]
    }
   ],
   "source": [
    "perc_covered = np.sum(np.array(seq_len_list) < max_seq_len) / len(seq_len_list)*100\n",
    "print('The above calculated number coveres approximately {} % of data'.format(np.round(perc_covered,2)))"
   ]
  },
  {
   "cell_type": "code",
   "execution_count": 21,
   "id": "828e3b9a",
   "metadata": {},
   "outputs": [],
   "source": [
    "#create padded sequences\n",
    "pad_train=pad_sequences(seq_train,truncating = 'post', padding = 'pre',maxlen=max_seq_len)\n",
    "pad_test=pad_sequences(seq_test,truncating = 'post', padding = 'pre',maxlen=max_seq_len)"
   ]
  },
  {
   "cell_type": "code",
   "execution_count": 22,
   "id": "7d2c2c21",
   "metadata": {},
   "outputs": [],
   "source": [
    "#Splitting training set for validation purposes\n",
    "Xtrain,Xval,ytrain,yval=train_test_split(pad_train,ytrain,\n",
    "                                             test_size=0.2,random_state=10)"
   ]
  },
  {
   "cell_type": "code",
   "execution_count": 65,
   "id": "52370d36",
   "metadata": {},
   "outputs": [],
   "source": [
    "def lstm_model(Xtrain,Xval,ytrain,yval,V,D,maxlen,epochs):\n",
    "\n",
    "    print(\"----Building the model----\")\n",
    "    i = Input(shape=(maxlen,))\n",
    "    x = Embedding(V + 1, D,input_length = maxlen)(i)\n",
    "    x = BatchNormalization()(x)\n",
    "    x = Dropout(0.3)(x)\n",
    "    x = Conv1D(32,5,activation = 'relu')(x)\n",
    "    x = Dropout(0.3)(x)\n",
    "    x = MaxPooling1D(2)(x)\n",
    "    x = Bidirectional(LSTM(128,return_sequences=True))(x)\n",
    "    x = LSTM(64)(x)\n",
    "    x = Dropout(0.5)(x)\n",
    "    x = Dense(1, activation='sigmoid')(x)\n",
    "    model = Model(i, x)\n",
    "    model.summary()\n",
    "\n",
    "    #Training the LSTM\n",
    "    print(\"----Training the network----\")\n",
    "    model.compile(optimizer= Adam(0.0005),\n",
    "              loss='binary_crossentropy',\n",
    "              metrics=['accuracy'])\n",
    "    \n",
    "#     #early_stop = EarlyStopping(monitor='val_accuracy', \n",
    "#                                mode='min', \n",
    "#                                patience = 2 )\n",
    "#     #checkpoints= ModelCheckpoint(filepath='./',\n",
    "#                             monitor=\"val_accuracy\",\n",
    "#                             verbose=0,\n",
    "#                             save_best_only=True\n",
    "#                            )\n",
    "  #  callbacks = [checkpoints,early_stop]\n",
    "    r = model.fit(Xtrain,ytrain, \n",
    "                  validation_data = (Xval,yval), \n",
    "                  epochs = epochs, \n",
    "                  verbose = 2,\n",
    "                  batch_size = 32)\n",
    "                  #callbacks = callbacks\n",
    "    print(\"Train score:\", model.evaluate(Xtrain,ytrain))\n",
    "    print(\"Validation score:\", model.evaluate(Xval,yval))\n",
    "    n_epochs = len(r.history['loss'])\n",
    "    \n",
    "    return r,model,n_epochs"
   ]
  },
  {
   "cell_type": "code",
   "execution_count": 66,
   "id": "e9184f79",
   "metadata": {},
   "outputs": [
    {
     "name": "stdout",
     "output_type": "stream",
     "text": [
      "----Building the model----\n",
      "Model: \"model\"\n",
      "_________________________________________________________________\n",
      " Layer (type)                Output Shape              Param #   \n",
      "=================================================================\n",
      " input_1 (InputLayer)        [(None, 293)]             0         \n",
      "                                                                 \n",
      " embedding (Embedding)       (None, 293, 64)           8740480   \n",
      "                                                                 \n",
      " batch_normalization (BatchN  (None, 293, 64)          256       \n",
      " ormalization)                                                   \n",
      "                                                                 \n",
      " dropout (Dropout)           (None, 293, 64)           0         \n",
      "                                                                 \n",
      " conv1d (Conv1D)             (None, 289, 32)           10272     \n",
      "                                                                 \n",
      " dropout_1 (Dropout)         (None, 289, 32)           0         \n",
      "                                                                 \n",
      " max_pooling1d (MaxPooling1D  (None, 144, 32)          0         \n",
      " )                                                               \n",
      "                                                                 \n",
      " bidirectional (Bidirectiona  (None, 144, 256)         164864    \n",
      " l)                                                              \n",
      "                                                                 \n",
      " lstm_1 (LSTM)               (None, 64)                82176     \n",
      "                                                                 \n",
      " dropout_2 (Dropout)         (None, 64)                0         \n",
      "                                                                 \n",
      " dense (Dense)               (None, 1)                 65        \n",
      "                                                                 \n",
      "=================================================================\n",
      "Total params: 8,998,113\n",
      "Trainable params: 8,997,985\n",
      "Non-trainable params: 128\n",
      "_________________________________________________________________\n",
      "----Training the network----\n",
      "Epoch 1/5\n",
      "992/992 - 251s - loss: 0.4108 - accuracy: 0.8053 - val_loss: 0.2874 - val_accuracy: 0.8829 - 251s/epoch - 253ms/step\n",
      "Epoch 2/5\n",
      "992/992 - 239s - loss: 0.2536 - accuracy: 0.8995 - val_loss: 0.2714 - val_accuracy: 0.8872 - 239s/epoch - 241ms/step\n",
      "Epoch 3/5\n",
      "992/992 - 244s - loss: 0.1939 - accuracy: 0.9255 - val_loss: 0.2781 - val_accuracy: 0.8936 - 244s/epoch - 246ms/step\n",
      "Epoch 4/5\n",
      "992/992 - 242s - loss: 0.1471 - accuracy: 0.9461 - val_loss: 0.3195 - val_accuracy: 0.8868 - 242s/epoch - 244ms/step\n",
      "Epoch 5/5\n",
      "992/992 - 235s - loss: 0.1173 - accuracy: 0.9585 - val_loss: 0.3296 - val_accuracy: 0.8858 - 235s/epoch - 237ms/step\n",
      "992/992 [==============================] - 72s 73ms/step - loss: 0.0434 - accuracy: 0.9916\n",
      "Train score: [0.04341737926006317, 0.9915857911109924]\n",
      "248/248 [==============================] - 18s 72ms/step - loss: 0.3296 - accuracy: 0.8858\n",
      "Validation score: [0.3296474814414978, 0.8857935070991516]\n"
     ]
    }
   ],
   "source": [
    "D = 64 #embedding dims\n",
    "epochs = 5\n",
    "r,model,n_epochs = lstm_model(Xtrain,Xval,ytrain,yval,V,D,max_seq_len,epochs)"
   ]
  },
  {
   "cell_type": "code",
   "execution_count": 67,
   "id": "2a6dd630",
   "metadata": {},
   "outputs": [
    {
     "data": {
      "image/png": "[encoded data removed]",
      "text/plain": [
       "<Figure size 720x360 with 2 Axes>"
      ]
     },
     "metadata": {},
     "output_type": "display_data"
    }
   ],
   "source": [
    "#Plot accuracy and loss\n",
    "plotLearningCurve(r,n_epochs)"
   ]
  },
  {
   "cell_type": "code",
   "execution_count": 68,
   "id": "1e2ad2e7",
   "metadata": {},
   "outputs": [
    {
     "name": "stdout",
     "output_type": "stream",
     "text": [
      "Evaluate Model Performance on Test set\n",
      "310/310 [==============================] - 22s 72ms/step - loss: 0.3401 - accuracy: 0.8789\n",
      "{'loss': 0.3401111662387848, 'accuracy': 0.8788948059082031}\n"
     ]
    }
   ],
   "source": [
    "print(\"Evaluate Model Performance on Test set\")\n",
    "result = model.evaluate(pad_test,ytest)\n",
    "print(dict(zip(model.metrics_names, result)))"
   ]
  },
  {
   "cell_type": "code",
   "execution_count": 69,
   "id": "66588c71",
   "metadata": {},
   "outputs": [
    {
     "name": "stdout",
     "output_type": "stream",
     "text": [
      "310/310 [==============================] - 19s 53ms/step\n"
     ]
    }
   ],
   "source": [
    "#Generate predictions for the test dataset\n",
    "ypred = model.predict(pad_test)\n",
    "ypred = ypred>0.5"
   ]
  },
  {
   "cell_type": "code",
   "execution_count": 70,
   "id": "7fa9b598",
   "metadata": {},
   "outputs": [
    {
     "name": "stderr",
     "output_type": "stream",
     "text": [
      "C:\\Users\\Sifan\\AppData\\Local\\Temp/ipykernel_20196/834542198.py:1: SettingWithCopyWarning: \n",
      "A value is trying to be set on a copy of a slice from a DataFrame.\n",
      "Try using .loc[row_indexer,col_indexer] = value instead\n",
      "\n",
      "See the caveats in the documentation: https://pandas.pydata.org/pandas-docs/stable/user_guide/indexing.html#returning-a-view-versus-a-copy\n",
      "  test['predicted_sentiment'] = ypred\n"
     ]
    }
   ],
   "source": [
    "test['predicted_sentiment'] = ypred"
   ]
  },
  {
   "cell_type": "code",
   "execution_count": 71,
   "id": "ae58ff7b",
   "metadata": {},
   "outputs": [
    {
     "name": "stderr",
     "output_type": "stream",
     "text": [
      "C:\\Users\\Sifan\\AppData\\Local\\Temp/ipykernel_20196/1677880173.py:1: SettingWithCopyWarning: \n",
      "A value is trying to be set on a copy of a slice from a DataFrame.\n",
      "Try using .loc[row_indexer,col_indexer] = value instead\n",
      "\n",
      "See the caveats in the documentation: https://pandas.pydata.org/pandas-docs/stable/user_guide/indexing.html#returning-a-view-versus-a-copy\n",
      "  test['predicted_sentiment'] = test['predicted_sentiment'].apply(lambda c: 1 if c == True else 0)\n"
     ]
    }
   ],
   "source": [
    "test['predicted_sentiment'] = test['predicted_sentiment'].apply(lambda c: 1 if c == True else 0)"
   ]
  },
  {
   "cell_type": "code",
   "execution_count": 72,
   "id": "960959ce",
   "metadata": {},
   "outputs": [
    {
     "data": {
      "text/html": [
       "<div>\n",
       "<style scoped>\n",
       "    .dataframe tbody tr th:only-of-type {\n",
       "        vertical-align: middle;\n",
       "    }\n",
       "\n",
       "    .dataframe tbody tr th {\n",
       "        vertical-align: top;\n",
       "    }\n",
       "\n",
       "    .dataframe thead th {\n",
       "        text-align: right;\n",
       "    }\n",
       "</style>\n",
       "<table border=\"1\" class=\"dataframe\">\n",
       "  <thead>\n",
       "    <tr style=\"text-align: right;\">\n",
       "      <th></th>\n",
       "      <th>review</th>\n",
       "      <th>sentiment</th>\n",
       "      <th>predicted_sentiment</th>\n",
       "    </tr>\n",
       "  </thead>\n",
       "  <tbody>\n",
       "    <tr>\n",
       "      <th>29171</th>\n",
       "      <td>soul plane horrible attempt comedy appeal peop...</td>\n",
       "      <td>0</td>\n",
       "      <td>0</td>\n",
       "    </tr>\n",
       "    <tr>\n",
       "      <th>43589</th>\n",
       "      <td>guest future tells fascinating story time trav...</td>\n",
       "      <td>1</td>\n",
       "      <td>1</td>\n",
       "    </tr>\n",
       "    <tr>\n",
       "      <th>38712</th>\n",
       "      <td>national treasure thoroughly misguided hodgepo...</td>\n",
       "      <td>0</td>\n",
       "      <td>1</td>\n",
       "    </tr>\n",
       "    <tr>\n",
       "      <th>16045</th>\n",
       "      <td>ok first said wanted check whether movie avera...</td>\n",
       "      <td>0</td>\n",
       "      <td>0</td>\n",
       "    </tr>\n",
       "    <tr>\n",
       "      <th>5248</th>\n",
       "      <td>always fan show grew season started see richne...</td>\n",
       "      <td>1</td>\n",
       "      <td>1</td>\n",
       "    </tr>\n",
       "    <tr>\n",
       "      <th>...</th>\n",
       "      <td>...</td>\n",
       "      <td>...</td>\n",
       "      <td>...</td>\n",
       "    </tr>\n",
       "    <tr>\n",
       "      <th>2923</th>\n",
       "      <td>kennedymiller could hardly done better job tac...</td>\n",
       "      <td>1</td>\n",
       "      <td>0</td>\n",
       "    </tr>\n",
       "    <tr>\n",
       "      <th>15292</th>\n",
       "      <td>disney studios remake slapstick classic concer...</td>\n",
       "      <td>0</td>\n",
       "      <td>0</td>\n",
       "    </tr>\n",
       "    <tr>\n",
       "      <th>17849</th>\n",
       "      <td>gave stars possible went realizing discovered ...</td>\n",
       "      <td>0</td>\n",
       "      <td>0</td>\n",
       "    </tr>\n",
       "    <tr>\n",
       "      <th>38079</th>\n",
       "      <td>found tremendously disappointing version charm...</td>\n",
       "      <td>0</td>\n",
       "      <td>0</td>\n",
       "    </tr>\n",
       "    <tr>\n",
       "      <th>2691</th>\n",
       "      <td>manmohan desai made entertaining though illogi...</td>\n",
       "      <td>0</td>\n",
       "      <td>0</td>\n",
       "    </tr>\n",
       "  </tbody>\n",
       "</table>\n",
       "<p>9917 rows × 3 columns</p>\n",
       "</div>"
      ],
      "text/plain": [
       "                                                  review  sentiment  \\\n",
       "29171  soul plane horrible attempt comedy appeal peop...          0   \n",
       "43589  guest future tells fascinating story time trav...          1   \n",
       "38712  national treasure thoroughly misguided hodgepo...          0   \n",
       "16045  ok first said wanted check whether movie avera...          0   \n",
       "5248   always fan show grew season started see richne...          1   \n",
       "...                                                  ...        ...   \n",
       "2923   kennedymiller could hardly done better job tac...          1   \n",
       "15292  disney studios remake slapstick classic concer...          0   \n",
       "17849  gave stars possible went realizing discovered ...          0   \n",
       "38079  found tremendously disappointing version charm...          0   \n",
       "2691   manmohan desai made entertaining though illogi...          0   \n",
       "\n",
       "       predicted_sentiment  \n",
       "29171                    0  \n",
       "43589                    1  \n",
       "38712                    1  \n",
       "16045                    0  \n",
       "5248                     1  \n",
       "...                    ...  \n",
       "2923                     0  \n",
       "15292                    0  \n",
       "17849                    0  \n",
       "38079                    0  \n",
       "2691                     0  \n",
       "\n",
       "[9917 rows x 3 columns]"
      ]
     },
     "execution_count": 72,
     "metadata": {},
     "output_type": "execute_result"
    }
   ],
   "source": [
    "test"
   ]
  },
  {
   "cell_type": "code",
   "execution_count": 73,
   "id": "c6b686dc",
   "metadata": {},
   "outputs": [
    {
     "data": {
      "text/plain": [
       "Counter({0: 4939, 1: 4978})"
      ]
     },
     "execution_count": 73,
     "metadata": {},
     "output_type": "execute_result"
    }
   ],
   "source": [
    "Counter(test[\"sentiment\"])"
   ]
  },
  {
   "cell_type": "code",
   "execution_count": 74,
   "id": "43d47af2",
   "metadata": {},
   "outputs": [
    {
     "data": {
      "text/plain": [
       "Counter({0: 4758, 1: 5159})"
      ]
     },
     "execution_count": 74,
     "metadata": {},
     "output_type": "execute_result"
    }
   ],
   "source": [
    "Counter(test[\"predicted_sentiment\"])"
   ]
  },
  {
   "cell_type": "code",
   "execution_count": 75,
   "id": "14613682",
   "metadata": {},
   "outputs": [
    {
     "name": "stdout",
     "output_type": "stream",
     "text": [
      "Validation F1 Score  : 0.8815231330768472 and Accuracy Score 0.8788948270646365\n"
     ]
    }
   ],
   "source": [
    "f1_l = f1_score(test['sentiment'],test['predicted_sentiment'],pos_label=1)\n",
    "accuracy_l = accuracy_score(test['sentiment'],test['predicted_sentiment'])\n",
    "\n",
    "print(f\"Validation F1 Score  : {f1_l} and Accuracy Score {accuracy_l}\")"
   ]
  },
  {
   "cell_type": "code",
   "execution_count": 76,
   "id": "4b20f8ab",
   "metadata": {},
   "outputs": [
    {
     "data": {
      "image/png": "[encoded data removed]",
      "text/plain": [
       "<Figure size 432x288 with 1 Axes>"
      ]
     },
     "metadata": {},
     "output_type": "display_data"
    }
   ],
   "source": [
    "mat3 = confusion_matrix(test['sentiment'],test['predicted_sentiment'])\n",
    "# Plot Confusion matrix\n",
    "sns.heatmap(mat3.T, square=True, annot=True, cbar=False, cmap=plt.cm.Blues, fmt='.0f')\n",
    "plt.xlabel('True label')\n",
    "plt.ylabel('Predicted label');\n",
    "plt.show();"
   ]
  },
  {
   "cell_type": "code",
   "execution_count": 91,
   "id": "7cfad6db",
   "metadata": {},
   "outputs": [
    {
     "data": {
      "image/png": "[encoded data removed]",
      "text/plain": [
       "<Figure size 864x432 with 2 Axes>"
      ]
     },
     "metadata": {},
     "output_type": "display_data"
    }
   ],
   "source": [
    "plt.figure(figsize=(12, 6))  \n",
    "plt.subplot(1, 2, 1)  \n",
    "sns.heatmap(mat2.T, square=True, annot=True, cbar=False, cmap=plt.cm.Greens, fmt='.0f')  \n",
    "plt.title('Confusion Matrix of Naive Bayes')  \n",
    "plt.xlabel('True label')\n",
    "plt.ylabel('Predicted label')\n",
    "plt.subplot(1, 2, 2) \n",
    "sns.heatmap(mat3.T, square=True, annot=True, cbar=False, cmap=plt.cm.Blues, fmt='.0f') \n",
    "plt.title('Confusion Matrix of LSTM')  \n",
    "plt.xlabel('True label')\n",
    "plt.ylabel('Predicted label')\n",
    "plt.show() "
   ]
  },
  {
   "cell_type": "markdown",
   "id": "f6adea94",
   "metadata": {},
   "source": [
    "## Compare"
   ]
  },
  {
   "cell_type": "code",
   "execution_count": 77,
   "id": "4368358b",
   "metadata": {},
   "outputs": [
    {
     "data": {
      "text/html": [
       "<div>\n",
       "<style scoped>\n",
       "    .dataframe tbody tr th:only-of-type {\n",
       "        vertical-align: middle;\n",
       "    }\n",
       "\n",
       "    .dataframe tbody tr th {\n",
       "        vertical-align: top;\n",
       "    }\n",
       "\n",
       "    .dataframe thead th {\n",
       "        text-align: right;\n",
       "    }\n",
       "</style>\n",
       "<table border=\"1\" class=\"dataframe\">\n",
       "  <thead>\n",
       "    <tr style=\"text-align: right;\">\n",
       "      <th></th>\n",
       "      <th>F1 score</th>\n",
       "      <th>Accuracy</th>\n",
       "    </tr>\n",
       "  </thead>\n",
       "  <tbody>\n",
       "    <tr>\n",
       "      <th>VADER</th>\n",
       "      <td>0.739225</td>\n",
       "      <td>0.696866</td>\n",
       "    </tr>\n",
       "    <tr>\n",
       "      <th>Naive Bayes</th>\n",
       "      <td>0.857230</td>\n",
       "      <td>0.858727</td>\n",
       "    </tr>\n",
       "    <tr>\n",
       "      <th>LSTM</th>\n",
       "      <td>0.881523</td>\n",
       "      <td>0.878895</td>\n",
       "    </tr>\n",
       "  </tbody>\n",
       "</table>\n",
       "</div>"
      ],
      "text/plain": [
       "             F1 score  Accuracy\n",
       "VADER        0.739225  0.696866\n",
       "Naive Bayes  0.857230  0.858727\n",
       "LSTM         0.881523  0.878895"
      ]
     },
     "execution_count": 77,
     "metadata": {},
     "output_type": "execute_result"
    }
   ],
   "source": [
    "f1_and_acc = {'F1 score':{'VADER':f1,'Naive Bayes':f1_b,'LSTM':f1_l},\n",
    "       'Accuracy':{'VADER':accuracy,'Naive Bayes':accuracy_b,'LSTM':accuracy_l}}\n",
    "f1_and_acc = DataFrame(f1_and_acc)\n",
    "f1_and_acc"
   ]
  },
  {
   "cell_type": "code",
   "execution_count": null,
   "id": "6a07f8d1",
   "metadata": {},
   "outputs": [],
   "source": []
  }
 ],
 "metadata": {
  "kernelspec": {
   "display_name": "Python 3 (ipykernel)",
   "language": "python",
   "name": "python3"
  },
  "language_info": {
   "codemirror_mode": {
    "name": "ipython",
    "version": 3
   },
   "file_extension": ".py",
   "mimetype": "text/x-python",
   "name": "python",
   "nbconvert_exporter": "python",
   "pygments_lexer": "ipython3",
   "version": "3.9.7"
  }
 },
 "nbformat": 4,
 "nbformat_minor": 5
}
